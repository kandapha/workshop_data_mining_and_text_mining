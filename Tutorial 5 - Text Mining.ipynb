{
 "cells": [
  {
   "cell_type": "markdown",
   "metadata": {
    "slideshow": {
     "slide_type": "slide"
    }
   },
   "source": [
    "# Text Mining "
   ]
  },
  {
   "cell_type": "markdown",
   "metadata": {
    "deletable": true,
    "editable": true,
    "slideshow": {
     "slide_type": "subslide"
    }
   },
   "source": [
    "* Create your sample data\n",
    "\n",
    "* Vectorizer\n",
    "    * BagOfWord (Occurence)\n",
    "    * TF\n",
    "    * TF-IDF\n",
    "    \n",
    "* SMS data"
   ]
  },
  {
   "cell_type": "markdown",
   "metadata": {
    "deletable": true,
    "editable": true,
    "slideshow": {
     "slide_type": "slide"
    }
   },
   "source": [
    "## Sample data"
   ]
  },
  {
   "cell_type": "code",
   "execution_count": null,
   "metadata": {
    "collapsed": false,
    "deletable": true,
    "editable": true,
    "slideshow": {
     "slide_type": "subslide"
    }
   },
   "outputs": [],
   "source": [
    "import numpy as np\n",
    "\n",
    "X_data = [\"Apple Orange Orange Apple\",\n",
    "          \"Apple Banana Apple Banana\",\n",
    "          \"Banana Apple Banana Banana Banana Apple\",\n",
    "          \"Banana Orange Banana Banana Orange Banana\",\n",
    "          \"Banana Apple Banana Banana Orange Banana\"]\n",
    "\n",
    "y_train = np.array([0,0,1,1,1])"
   ]
  },
  {
   "cell_type": "code",
   "execution_count": null,
   "metadata": {
    "collapsed": false,
    "deletable": true,
    "editable": true,
    "slideshow": {
     "slide_type": "subslide"
    }
   },
   "outputs": [],
   "source": [
    "from sklearn.feature_extraction.text import CountVectorizer\n",
    "\n",
    "vectorizer = CountVectorizer()\n",
    "vectorizer.fit(X_data)\n",
    "\n",
    "data_vec = vectorizer.transform(X_data).toarray()\n",
    "print(data_vec)"
   ]
  },
  {
   "cell_type": "code",
   "execution_count": null,
   "metadata": {
    "collapsed": false,
    "deletable": true,
    "editable": true,
    "slideshow": {
     "slide_type": "subslide"
    }
   },
   "outputs": [],
   "source": [
    "from sklearn.tree import DecisionTreeClassifier, export_graphviz\n",
    "\n",
    "model = DecisionTreeClassifier()\n",
    "model.fit(data_vec, y_train)"
   ]
  },
  {
   "cell_type": "code",
   "execution_count": null,
   "metadata": {
    "collapsed": false,
    "deletable": true,
    "editable": true,
    "slideshow": {
     "slide_type": "subslide"
    }
   },
   "outputs": [],
   "source": [
    "feature_names = ['apple','banana','orange']\n",
    "class_names = ['0','1']\n",
    "\n",
    "import os\n",
    "from io import StringIO\n",
    "import pydotplus\n",
    "from IPython.display import Image\n",
    "from sklearn import tree\n",
    "\n",
    "dot_data = StringIO()\n",
    "tree.export_graphviz(model, out_file=dot_data,  \n",
    "                     feature_names=feature_names,  \n",
    "                     class_names=class_names,  \n",
    "                     filled=True, rounded=True,  \n",
    "                     special_characters=True)  \n",
    "\n",
    "graph = pydotplus.graph_from_dot_data(dot_data.getvalue())  \n",
    "Image(graph.create_png())"
   ]
  },
  {
   "cell_type": "markdown",
   "metadata": {
    "deletable": true,
    "editable": true,
    "slideshow": {
     "slide_type": "slide"
    }
   },
   "source": [
    "## Load email (ham or spam)"
   ]
  },
  {
   "cell_type": "markdown",
   "metadata": {
    "deletable": true,
    "editable": true,
    "slideshow": {
     "slide_type": "fragment"
    }
   },
   "source": [
    "[Load Datasets](http://www.esp.uem.es/jmgomez/smsspamcorpus/)"
   ]
  },
  {
   "cell_type": "code",
   "execution_count": null,
   "metadata": {
    "collapsed": false,
    "deletable": true,
    "editable": true,
    "slideshow": {
     "slide_type": "subslide"
    }
   },
   "outputs": [],
   "source": [
    "filename = 'datasets/email.txt'\n",
    "lines = []\n",
    "X_train = []\n",
    "y_train = []\n",
    "\n",
    "with open(filename) as f:\n",
    "    lines = f.read().splitlines()\n",
    "    \n",
    "for line in lines:\n",
    "    field = line.split(\"\\t\")\n",
    "    X_train.append(field[0])\n",
    "    y_train.append(field[1])\n",
    "\n",
    "print(X_train[:5])    "
   ]
  },
  {
   "cell_type": "markdown",
   "metadata": {
    "collapsed": true,
    "deletable": true,
    "editable": true,
    "slideshow": {
     "slide_type": "subslide"
    }
   },
   "source": [
    "### Load SMS data"
   ]
  },
  {
   "cell_type": "code",
   "execution_count": null,
   "metadata": {
    "collapsed": false,
    "deletable": true,
    "editable": true,
    "slideshow": {
     "slide_type": "subslide"
    }
   },
   "outputs": [],
   "source": [
    "text_filename = 'datasets/sms_survey/sms.txt'\n",
    "target_class_filename = 'datasets/sms_survey/sms_class.txt'\n",
    "target_sentiment_filename = 'datasets/sms_survey/sms_sentiment.txt'\n",
    "lines = []\n",
    "X_train = []\n",
    "y_train = []\n",
    "\n",
    "with open(text_filename, encoding=\"utf8\") as f:\n",
    "    text = f.read().splitlines()    \n",
    "\n",
    "with open(target_class_filename) as f:\n",
    "    target_class = f.read().splitlines()\n",
    "    \n",
    "for i in range(10):\n",
    "    X_train.append(text[i])\n",
    "    y_train.append(target_class[i])\n"
   ]
  },
  {
   "cell_type": "code",
   "execution_count": null,
   "metadata": {
    "collapsed": false,
    "deletable": true,
    "editable": true,
    "slideshow": {
     "slide_type": "subslide"
    }
   },
   "outputs": [],
   "source": [
    "import numpy as np\n",
    "from sklearn.feature_extraction.text import CountVectorizer\n",
    "\n",
    "vocabulary=['ล่าช้า', 'บริการ', 'พนักงาน', 'ดี', 'เวลา', 'คิว', 'เคาน์เตอร์', 'เปิด', 'ช่อง' , 'ลูกค้า', 'หน้าตา', 'ยิ้มแย้ม']\n",
    "vectorizer = CountVectorizer(vocabulary=vocabulary, tokenizer=lambda x: x.split('|'))\n",
    "\n",
    "#vectorizer = CountVectorizer(tokenizer=lambda x: x.split('|'))\n",
    "\n",
    "vectorizer.fit(X_train)\n",
    "\n",
    "data_vec = vectorizer.transform(X_train).toarray()"
   ]
  },
  {
   "cell_type": "code",
   "execution_count": null,
   "metadata": {
    "collapsed": false,
    "deletable": true,
    "editable": true,
    "slideshow": {
     "slide_type": "subslide"
    }
   },
   "outputs": [],
   "source": [
    "from sklearn.tree import DecisionTreeClassifier, export_graphviz\n",
    "\n",
    "model = DecisionTreeClassifier()\n",
    "model.fit(data_vec, y_train)"
   ]
  },
  {
   "cell_type": "code",
   "execution_count": null,
   "metadata": {
    "collapsed": false,
    "deletable": true,
    "editable": true,
    "slideshow": {
     "slide_type": "fragment"
    }
   },
   "outputs": [],
   "source": [
    "print(vectorizer.get_feature_names())"
   ]
  },
  {
   "cell_type": "code",
   "execution_count": null,
   "metadata": {
    "collapsed": false,
    "deletable": true,
    "editable": true,
    "slideshow": {
     "slide_type": "subslide"
    }
   },
   "outputs": [],
   "source": [
    "feature_names = ['late', 'service', 'staff', 'good', 'time', 'q', 'counter', 'open', 'boost', 'customer', 'face', 'smile']\n",
    "class_names = ['service','q']\n",
    "\n",
    "import os\n",
    "from io import StringIO\n",
    "import pydotplus\n",
    "from IPython.display import Image\n",
    "from sklearn import tree\n",
    "\n",
    "dot_data = StringIO()\n",
    "tree.export_graphviz(model, out_file=dot_data,  \n",
    "                     feature_names=feature_names,  \n",
    "                     class_names=class_names,  \n",
    "                     filled=True, rounded=True,  \n",
    "                     special_characters=True)  \n",
    "\n",
    "graph = pydotplus.graph_from_dot_data(dot_data.getvalue())  \n",
    "Image(graph.create_png())"
   ]
  },
  {
   "cell_type": "code",
   "execution_count": null,
   "metadata": {
    "collapsed": false,
    "deletable": true,
    "editable": true,
    "slideshow": {
     "slide_type": "subslide"
    }
   },
   "outputs": [],
   "source": [
    "test = ['[บริการ|ดี|ยิ้มแย้ม|]']\n",
    "test_vec = vectorizer.transform(test).toarray()\n",
    "\n",
    "predicted = model.predict(test_vec)\n",
    "\n",
    "print(test_vec)\n",
    "print(predicted)"
   ]
  }
 ],
 "metadata": {
  "celltoolbar": "Slideshow",
  "kernelspec": {
   "display_name": "Python 3",
   "language": "python",
   "name": "python3"
  },
  "language_info": {
   "codemirror_mode": {
    "name": "ipython",
    "version": 3
   },
   "file_extension": ".py",
   "mimetype": "text/x-python",
   "name": "python",
   "nbconvert_exporter": "python",
   "pygments_lexer": "ipython3",
   "version": "3.5.0+"
  }
 },
 "nbformat": 4,
 "nbformat_minor": 2
}
