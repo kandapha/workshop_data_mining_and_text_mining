{
 "cells": [
  {
   "cell_type": "markdown",
   "metadata": {},
   "source": [
    "# Introduction to Text Mining"
   ]
  },
  {
   "cell_type": "markdown",
   "metadata": {},
   "source": [
    "## Read Training data"
   ]
  },
  {
   "cell_type": "code",
   "execution_count": 3,
   "metadata": {
    "collapsed": true
   },
   "outputs": [],
   "source": [
    "import pandas as pd"
   ]
  },
  {
   "cell_type": "code",
   "execution_count": 25,
   "metadata": {
    "collapsed": true
   },
   "outputs": [],
   "source": [
    "data = pd.read_excel('dataset/test.xlsx')"
   ]
  },
  {
   "cell_type": "code",
   "execution_count": 26,
   "metadata": {
    "collapsed": false
   },
   "outputs": [
    {
     "data": {
      "text/html": [
       "<div>\n",
       "<style scoped>\n",
       "    .dataframe tbody tr th:only-of-type {\n",
       "        vertical-align: middle;\n",
       "    }\n",
       "\n",
       "    .dataframe tbody tr th {\n",
       "        vertical-align: top;\n",
       "    }\n",
       "\n",
       "    .dataframe thead th {\n",
       "        text-align: right;\n",
       "    }\n",
       "</style>\n",
       "<table border=\"1\" class=\"dataframe\">\n",
       "  <thead>\n",
       "    <tr style=\"text-align: right;\">\n",
       "      <th></th>\n",
       "      <th>text</th>\n",
       "      <th>target</th>\n",
       "    </tr>\n",
       "  </thead>\n",
       "  <tbody>\n",
       "    <tr>\n",
       "      <th>0</th>\n",
       "      <td>my name is apple who love eating an orange</td>\n",
       "      <td>fruit</td>\n",
       "    </tr>\n",
       "    <tr>\n",
       "      <th>1</th>\n",
       "      <td>orange is my favorite fruit</td>\n",
       "      <td>fruit</td>\n",
       "    </tr>\n",
       "    <tr>\n",
       "      <th>2</th>\n",
       "      <td>our orange tree is planted on the yard</td>\n",
       "      <td>farm</td>\n",
       "    </tr>\n",
       "    <tr>\n",
       "      <th>3</th>\n",
       "      <td>farmer grows an apple tree</td>\n",
       "      <td>farm</td>\n",
       "    </tr>\n",
       "    <tr>\n",
       "      <th>4</th>\n",
       "      <td>farmer keep apple seeds in a barn</td>\n",
       "      <td>farm</td>\n",
       "    </tr>\n",
       "  </tbody>\n",
       "</table>\n",
       "</div>"
      ],
      "text/plain": [
       "                                         text target\n",
       "0  my name is apple who love eating an orange  fruit\n",
       "1                 orange is my favorite fruit  fruit\n",
       "2      our orange tree is planted on the yard   farm\n",
       "3                  farmer grows an apple tree   farm\n",
       "4           farmer keep apple seeds in a barn   farm"
      ]
     },
     "execution_count": 26,
     "metadata": {},
     "output_type": "execute_result"
    }
   ],
   "source": [
    "data"
   ]
  },
  {
   "cell_type": "code",
   "execution_count": 27,
   "metadata": {
    "collapsed": true
   },
   "outputs": [],
   "source": [
    "X_train = data['text'].tolist()"
   ]
  },
  {
   "cell_type": "code",
   "execution_count": 38,
   "metadata": {
    "collapsed": false
   },
   "outputs": [
    {
     "data": {
      "text/plain": [
       "['fruit', 'fruit', 'farm', 'farm', 'farm']"
      ]
     },
     "execution_count": 38,
     "metadata": {},
     "output_type": "execute_result"
    }
   ],
   "source": [
    "y_train = data['target'].tolist()"
   ]
  },
  {
   "cell_type": "markdown",
   "metadata": {},
   "source": [
    "## Data Preparation - Vectorization"
   ]
  },
  {
   "cell_type": "code",
   "execution_count": 30,
   "metadata": {
    "collapsed": true
   },
   "outputs": [],
   "source": [
    "import numpy as np\n",
    "from sklearn.feature_extraction.text import CountVectorizer"
   ]
  },
  {
   "cell_type": "code",
   "execution_count": 29,
   "metadata": {
    "collapsed": true
   },
   "outputs": [],
   "source": [
    "vocab = ['name','apple','love','eating','orange','favorite','fruit','tree','planted','yard','farmer','grows','keep','seeds','barn']"
   ]
  },
  {
   "cell_type": "code",
   "execution_count": 31,
   "metadata": {
    "collapsed": true
   },
   "outputs": [],
   "source": [
    "tok = lambda x: x.split(' ')\n",
    "vectorizer = CountVectorizer(vocabulary=vocab, tokenizer=tok)\n",
    "vectorizer.fit(X_train)\n",
    "X_vector = vectorizer.transform(X_train).toarray()"
   ]
  },
  {
   "cell_type": "code",
   "execution_count": 32,
   "metadata": {
    "collapsed": false
   },
   "outputs": [
    {
     "data": {
      "text/plain": [
       "array([[1, 1, 1, 1, 1, 0, 0, 0, 0, 0, 0, 0, 0, 0, 0],\n",
       "       [0, 0, 0, 0, 1, 1, 1, 0, 0, 0, 0, 0, 0, 0, 0],\n",
       "       [0, 0, 0, 0, 1, 0, 0, 1, 1, 1, 0, 0, 0, 0, 0],\n",
       "       [0, 1, 0, 0, 0, 0, 0, 1, 0, 0, 1, 1, 0, 0, 0],\n",
       "       [0, 1, 0, 0, 0, 0, 0, 0, 0, 0, 1, 0, 1, 1, 1]])"
      ]
     },
     "execution_count": 32,
     "metadata": {},
     "output_type": "execute_result"
    }
   ],
   "source": [
    "X_vector"
   ]
  },
  {
   "cell_type": "markdown",
   "metadata": {},
   "source": [
    "## Training Process"
   ]
  },
  {
   "cell_type": "code",
   "execution_count": 43,
   "metadata": {
    "collapsed": false
   },
   "outputs": [
    {
     "name": "stdout",
     "output_type": "stream",
     "text": [
      "['name', 'apple', 'love', 'eating', 'orange', 'favorite', 'fruit', 'tree', 'planted', 'yard', 'farmer', 'grows', 'keep', 'seeds', 'barn']\n"
     ]
    }
   ],
   "source": [
    "from sklearn.tree import DecisionTreeClassifier\n",
    "\n",
    "model = DecisionTreeClassifier(criterion='entropy', max_depth=5)\n",
    "model.fit(X_vector, y_train)\n",
    "print(vectorizer.get_feature_names())"
   ]
  },
  {
   "cell_type": "markdown",
   "metadata": {},
   "source": [
    "## Testing Process"
   ]
  },
  {
   "cell_type": "code",
   "execution_count": 44,
   "metadata": {
    "collapsed": true
   },
   "outputs": [],
   "source": [
    "X_test = ['apple is my favorite']\n",
    "x_test_vector = vectorizer.transform(X_test).toarray()"
   ]
  },
  {
   "cell_type": "code",
   "execution_count": 45,
   "metadata": {
    "collapsed": false
   },
   "outputs": [
    {
     "data": {
      "text/plain": [
       "array([[0, 1, 0, 0, 0, 1, 0, 0, 0, 0, 0, 0, 0, 0, 0]])"
      ]
     },
     "execution_count": 45,
     "metadata": {},
     "output_type": "execute_result"
    }
   ],
   "source": [
    "x_test_vector"
   ]
  },
  {
   "cell_type": "code",
   "execution_count": 46,
   "metadata": {
    "collapsed": false
   },
   "outputs": [
    {
     "name": "stdout",
     "output_type": "stream",
     "text": [
      "['fruit']\n"
     ]
    }
   ],
   "source": [
    "predicted = model.predict(x_test_vector)\n",
    "print(predicted)"
   ]
  },
  {
   "cell_type": "code",
   "execution_count": 47,
   "metadata": {
    "collapsed": false
   },
   "outputs": [
    {
     "data": {
      "text/plain": [
       "array(['farm', 'fruit'], \n",
       "      dtype='<U5')"
      ]
     },
     "execution_count": 47,
     "metadata": {},
     "output_type": "execute_result"
    }
   ],
   "source": [
    "model.classes_"
   ]
  },
  {
   "cell_type": "markdown",
   "metadata": {},
   "source": [
    "## Display how Decision Tree model predict the test data"
   ]
  },
  {
   "cell_type": "code",
   "execution_count": 48,
   "metadata": {
    "collapsed": false
   },
   "outputs": [
    {
     "data": {
      "image/png": "[encoded data removed]",
      "text/plain": [
       "<IPython.core.display.Image object>"
      ]
     },
     "execution_count": 48,
     "metadata": {
      "image/png": {
       "height": 209,
       "width": 188
      }
     },
     "output_type": "execute_result"
    }
   ],
   "source": [
    "import os\n",
    "from io import StringIO\n",
    "import pydotplus\n",
    "from IPython.display import Image\n",
    "from sklearn.tree import export_graphviz\n",
    "\n",
    "feature_names = vectorizer.get_feature_names()\n",
    "class_names = model.classes_\n",
    "\n",
    "dot_data = StringIO()\n",
    "export_graphviz(model, out_file=dot_data,  \n",
    "                     feature_names=feature_names,  \n",
    "                     class_names=class_names,  \n",
    "                     filled=True, rounded=True,  \n",
    "                     special_characters=True)  \n",
    "\n",
    "graph = pydotplus.graph_from_dot_data(dot_data.getvalue())  \n",
    "Image(graph.create_png(), retina=True)"
   ]
  },
  {
   "cell_type": "code",
   "execution_count": null,
   "metadata": {
    "collapsed": true
   },
   "outputs": [],
   "source": []
  },
  {
   "cell_type": "markdown",
   "metadata": {},
   "source": [
    "## สรุปขั้นตอนการทำ Text Mining"
   ]
  },
  {
   "cell_type": "markdown",
   "metadata": {},
   "source": [
    "1. Read Data\n",
    "    - EDA\n",
    "        - 1.1 histogram chart\n",
    "        - 1.2 pie chart\n",
    "        - 1.3 Number of characters\n",
    "        - 1.4 Number of words\n",
    "2. Data Preparatioin \n",
    "    - 2.1 Remove stop word \n",
    "    - 2.2 Select only freq word or \n",
    "    - 2.3 Remove rare word\n",
    "    - 2.4 Vectorization\n",
    "        - CountVectorizer\n",
    "        - TfidfVecotrizer\n",
    "3. Traininig\n",
    "    - Decision Tree\n",
    "4. Testing\n",
    "5. Evaluation\n",
    "    - TrainTestSplit\n",
    "    - Scoring"
   ]
  },
  {
   "cell_type": "code",
   "execution_count": null,
   "metadata": {
    "collapsed": true
   },
   "outputs": [],
   "source": []
  },
  {
   "cell_type": "markdown",
   "metadata": {},
   "source": [
    "# Sentiment Analysis"
   ]
  },
  {
   "cell_type": "markdown",
   "metadata": {},
   "source": [
    "## 1. Read Data"
   ]
  },
  {
   "cell_type": "code",
   "execution_count": 4,
   "metadata": {
    "collapsed": true
   },
   "outputs": [],
   "source": [
    "data = pd.read_excel('dataset/sms.xlsx')"
   ]
  },
  {
   "cell_type": "code",
   "execution_count": 7,
   "metadata": {
    "collapsed": false
   },
   "outputs": [
    {
     "data": {
      "text/plain": [
       "(1000, 2)"
      ]
     },
     "execution_count": 7,
     "metadata": {},
     "output_type": "execute_result"
    }
   ],
   "source": [
    "data.shape"
   ]
  },
  {
   "cell_type": "code",
   "execution_count": 8,
   "metadata": {
    "collapsed": false
   },
   "outputs": [
    {
     "data": {
      "text/plain": [
       "2000"
      ]
     },
     "execution_count": 8,
     "metadata": {},
     "output_type": "execute_result"
    }
   ],
   "source": [
    "data.size"
   ]
  },
  {
   "cell_type": "code",
   "execution_count": 5,
   "metadata": {
    "collapsed": false
   },
   "outputs": [
    {
     "data": {
      "text/html": [
       "<div>\n",
       "<style scoped>\n",
       "    .dataframe tbody tr th:only-of-type {\n",
       "        vertical-align: middle;\n",
       "    }\n",
       "\n",
       "    .dataframe tbody tr th {\n",
       "        vertical-align: top;\n",
       "    }\n",
       "\n",
       "    .dataframe thead th {\n",
       "        text-align: right;\n",
       "    }\n",
       "</style>\n",
       "<table border=\"1\" class=\"dataframe\">\n",
       "  <thead>\n",
       "    <tr style=\"text-align: right;\">\n",
       "      <th></th>\n",
       "      <th>message</th>\n",
       "      <th>sentiment</th>\n",
       "    </tr>\n",
       "  </thead>\n",
       "  <tbody>\n",
       "    <tr>\n",
       "      <th>0</th>\n",
       "      <td>เกิด|ความ|ล่าช้า</td>\n",
       "      <td>Negative</td>\n",
       "    </tr>\n",
       "    <tr>\n",
       "      <th>1</th>\n",
       "      <td>ระบบ|คิว|ไม่|มี|ประสิทธิภาพ|เคานเตอร|ควร|เปิด|...</td>\n",
       "      <td>Negative</td>\n",
       "    </tr>\n",
       "    <tr>\n",
       "      <th>2</th>\n",
       "      <td>ประทับใจ|กา|บริการ|ดีิ</td>\n",
       "      <td>Positive</td>\n",
       "    </tr>\n",
       "    <tr>\n",
       "      <th>3</th>\n",
       "      <td>เกี่ยวกับ|การ|เข้า|คิว|ทำไม|ต้อง|ให้|แทรก|คิว|...</td>\n",
       "      <td>Negative</td>\n",
       "    </tr>\n",
       "    <tr>\n",
       "      <th>4</th>\n",
       "      <td>ระยะ|เวลา|ใน|การ|ให้|บริการ|ใน|กรณี|คิว|ลูกค้า...</td>\n",
       "      <td>Negative</td>\n",
       "    </tr>\n",
       "  </tbody>\n",
       "</table>\n",
       "</div>"
      ],
      "text/plain": [
       "                                             message sentiment\n",
       "0                                   เกิด|ความ|ล่าช้า  Negative\n",
       "1  ระบบ|คิว|ไม่|มี|ประสิทธิภาพ|เคานเตอร|ควร|เปิด|...  Negative\n",
       "2                             ประทับใจ|กา|บริการ|ดีิ  Positive\n",
       "3  เกี่ยวกับ|การ|เข้า|คิว|ทำไม|ต้อง|ให้|แทรก|คิว|...  Negative\n",
       "4  ระยะ|เวลา|ใน|การ|ให้|บริการ|ใน|กรณี|คิว|ลูกค้า...  Negative"
      ]
     },
     "execution_count": 5,
     "metadata": {},
     "output_type": "execute_result"
    }
   ],
   "source": [
    "data.head()"
   ]
  },
  {
   "cell_type": "code",
   "execution_count": 6,
   "metadata": {
    "collapsed": false
   },
   "outputs": [
    {
     "data": {
      "text/plain": [
       "Negative    544\n",
       "Positive    456\n",
       "Name: sentiment, dtype: int64"
      ]
     },
     "execution_count": 6,
     "metadata": {},
     "output_type": "execute_result"
    }
   ],
   "source": [
    "data['sentiment'].value_counts()"
   ]
  },
  {
   "cell_type": "markdown",
   "metadata": {},
   "source": [
    "### 1.1 Histogram"
   ]
  },
  {
   "cell_type": "code",
   "execution_count": 9,
   "metadata": {
    "collapsed": false
   },
   "outputs": [
    {
     "data": {
      "text/plain": [
       "<matplotlib.axes._subplots.AxesSubplot at 0x7f80578498d0>"
      ]
     },
     "execution_count": 9,
     "metadata": {},
     "output_type": "execute_result"
    },
    {
     "data": {
      "image/png": "[encoded data removed]",
      "text/plain": [
       "<matplotlib.figure.Figure at 0x7f8059465518>"
      ]
     },
     "metadata": {},
     "output_type": "display_data"
    }
   ],
   "source": [
    "%matplotlib inline\n",
    "import matplotlib.pyplot as plt\n",
    "\n",
    "data['sentiment'].value_counts().plot.bar()"
   ]
  },
  {
   "cell_type": "markdown",
   "metadata": {},
   "source": [
    "## 1.2 Pie Chart"
   ]
  },
  {
   "cell_type": "code",
   "execution_count": 10,
   "metadata": {
    "collapsed": false
   },
   "outputs": [
    {
     "data": {
      "text/plain": [
       "<matplotlib.axes._subplots.AxesSubplot at 0x7f804c8acc88>"
      ]
     },
     "execution_count": 10,
     "metadata": {},
     "output_type": "execute_result"
    },
    {
     "data": {
      "image/png": "[encoded data removed]",
      "text/plain": [
       "<matplotlib.figure.Figure at 0x7f804c8352e8>"
      ]
     },
     "metadata": {},
     "output_type": "display_data"
    }
   ],
   "source": [
    "data['sentiment'].value_counts().plot.pie()"
   ]
  },
  {
   "cell_type": "markdown",
   "metadata": {},
   "source": [
    "## 1.3 Number of characters"
   ]
  },
  {
   "cell_type": "code",
   "execution_count": 12,
   "metadata": {
    "collapsed": false
   },
   "outputs": [
    {
     "data": {
      "text/html": [
       "<div>\n",
       "<style scoped>\n",
       "    .dataframe tbody tr th:only-of-type {\n",
       "        vertical-align: middle;\n",
       "    }\n",
       "\n",
       "    .dataframe tbody tr th {\n",
       "        vertical-align: top;\n",
       "    }\n",
       "\n",
       "    .dataframe thead th {\n",
       "        text-align: right;\n",
       "    }\n",
       "</style>\n",
       "<table border=\"1\" class=\"dataframe\">\n",
       "  <thead>\n",
       "    <tr style=\"text-align: right;\">\n",
       "      <th></th>\n",
       "      <th>message</th>\n",
       "      <th>sentiment</th>\n",
       "      <th>char_count</th>\n",
       "    </tr>\n",
       "  </thead>\n",
       "  <tbody>\n",
       "    <tr>\n",
       "      <th>0</th>\n",
       "      <td>เกิด|ความ|ล่าช้า</td>\n",
       "      <td>Negative</td>\n",
       "      <td>16</td>\n",
       "    </tr>\n",
       "    <tr>\n",
       "      <th>1</th>\n",
       "      <td>ระบบ|คิว|ไม่|มี|ประสิทธิภาพ|เคานเตอร|ควร|เปิด|...</td>\n",
       "      <td>Negative</td>\n",
       "      <td>68</td>\n",
       "    </tr>\n",
       "    <tr>\n",
       "      <th>2</th>\n",
       "      <td>ประทับใจ|กา|บริการ|ดีิ</td>\n",
       "      <td>Positive</td>\n",
       "      <td>22</td>\n",
       "    </tr>\n",
       "    <tr>\n",
       "      <th>3</th>\n",
       "      <td>เกี่ยวกับ|การ|เข้า|คิว|ทำไม|ต้อง|ให้|แทรก|คิว|...</td>\n",
       "      <td>Negative</td>\n",
       "      <td>104</td>\n",
       "    </tr>\n",
       "    <tr>\n",
       "      <th>4</th>\n",
       "      <td>ระยะ|เวลา|ใน|การ|ให้|บริการ|ใน|กรณี|คิว|ลูกค้า...</td>\n",
       "      <td>Negative</td>\n",
       "      <td>100</td>\n",
       "    </tr>\n",
       "  </tbody>\n",
       "</table>\n",
       "</div>"
      ],
      "text/plain": [
       "                                             message sentiment  char_count\n",
       "0                                   เกิด|ความ|ล่าช้า  Negative          16\n",
       "1  ระบบ|คิว|ไม่|มี|ประสิทธิภาพ|เคานเตอร|ควร|เปิด|...  Negative          68\n",
       "2                             ประทับใจ|กา|บริการ|ดีิ  Positive          22\n",
       "3  เกี่ยวกับ|การ|เข้า|คิว|ทำไม|ต้อง|ให้|แทรก|คิว|...  Negative         104\n",
       "4  ระยะ|เวลา|ใน|การ|ให้|บริการ|ใน|กรณี|คิว|ลูกค้า...  Negative         100"
      ]
     },
     "execution_count": 12,
     "metadata": {},
     "output_type": "execute_result"
    }
   ],
   "source": [
    "data['char_count'] = data['message'].str.len() ## this also includes spaces\n",
    "data.head()"
   ]
  },
  {
   "cell_type": "code",
   "execution_count": 19,
   "metadata": {
    "collapsed": false
   },
   "outputs": [
    {
     "data": {
      "text/plain": [
       "array([[<matplotlib.axes._subplots.AxesSubplot object at 0x7f804beb3d68>]], dtype=object)"
      ]
     },
     "execution_count": 19,
     "metadata": {},
     "output_type": "execute_result"
    },
    {
     "data": {
      "image/png": "[encoded data removed]",
      "text/plain": [
       "<matplotlib.figure.Figure at 0x7f804bf81978>"
      ]
     },
     "metadata": {},
     "output_type": "display_data"
    }
   ],
   "source": [
    "data.hist(bins=100)"
   ]
  },
  {
   "cell_type": "code",
   "execution_count": 18,
   "metadata": {
    "collapsed": false
   },
   "outputs": [
    {
     "data": {
      "text/plain": [
       "array([[<matplotlib.axes._subplots.AxesSubplot object at 0x7f804c1dea58>]], dtype=object)"
      ]
     },
     "execution_count": 18,
     "metadata": {},
     "output_type": "execute_result"
    },
    {
     "data": {
      "image/png": "[encoded data removed]",
      "text/plain": [
       "<matplotlib.figure.Figure at 0x7f804bf6bf60>"
      ]
     },
     "metadata": {},
     "output_type": "display_data"
    }
   ],
   "source": [
    "data[data['char_count']<100].hist(bins=150)"
   ]
  },
  {
   "cell_type": "code",
   "execution_count": 15,
   "metadata": {
    "collapsed": false
   },
   "outputs": [
    {
     "data": {
      "text/html": [
       "<div>\n",
       "<style scoped>\n",
       "    .dataframe tbody tr th:only-of-type {\n",
       "        vertical-align: middle;\n",
       "    }\n",
       "\n",
       "    .dataframe tbody tr th {\n",
       "        vertical-align: top;\n",
       "    }\n",
       "\n",
       "    .dataframe thead th {\n",
       "        text-align: right;\n",
       "    }\n",
       "</style>\n",
       "<table border=\"1\" class=\"dataframe\">\n",
       "  <thead>\n",
       "    <tr style=\"text-align: right;\">\n",
       "      <th></th>\n",
       "      <th>char_count</th>\n",
       "    </tr>\n",
       "  </thead>\n",
       "  <tbody>\n",
       "    <tr>\n",
       "      <th>count</th>\n",
       "      <td>1000.000000</td>\n",
       "    </tr>\n",
       "    <tr>\n",
       "      <th>mean</th>\n",
       "      <td>58.806000</td>\n",
       "    </tr>\n",
       "    <tr>\n",
       "      <th>std</th>\n",
       "      <td>68.029364</td>\n",
       "    </tr>\n",
       "    <tr>\n",
       "      <th>min</th>\n",
       "      <td>2.000000</td>\n",
       "    </tr>\n",
       "    <tr>\n",
       "      <th>25%</th>\n",
       "      <td>23.000000</td>\n",
       "    </tr>\n",
       "    <tr>\n",
       "      <th>50%</th>\n",
       "      <td>38.000000</td>\n",
       "    </tr>\n",
       "    <tr>\n",
       "      <th>75%</th>\n",
       "      <td>66.000000</td>\n",
       "    </tr>\n",
       "    <tr>\n",
       "      <th>max</th>\n",
       "      <td>718.000000</td>\n",
       "    </tr>\n",
       "  </tbody>\n",
       "</table>\n",
       "</div>"
      ],
      "text/plain": [
       "        char_count\n",
       "count  1000.000000\n",
       "mean     58.806000\n",
       "std      68.029364\n",
       "min       2.000000\n",
       "25%      23.000000\n",
       "50%      38.000000\n",
       "75%      66.000000\n",
       "max     718.000000"
      ]
     },
     "execution_count": 15,
     "metadata": {},
     "output_type": "execute_result"
    }
   ],
   "source": [
    "data.describe()"
   ]
  },
  {
   "cell_type": "markdown",
   "metadata": {},
   "source": [
    "## 1.4 Number of Words"
   ]
  },
  {
   "cell_type": "code",
   "execution_count": 20,
   "metadata": {
    "collapsed": true
   },
   "outputs": [],
   "source": [
    "data['word_count'] = data['message'].apply(lambda x: len(str(x).split(\"|\")))"
   ]
  },
  {
   "cell_type": "code",
   "execution_count": 21,
   "metadata": {
    "collapsed": false
   },
   "outputs": [
    {
     "data": {
      "text/html": [
       "<div>\n",
       "<style scoped>\n",
       "    .dataframe tbody tr th:only-of-type {\n",
       "        vertical-align: middle;\n",
       "    }\n",
       "\n",
       "    .dataframe tbody tr th {\n",
       "        vertical-align: top;\n",
       "    }\n",
       "\n",
       "    .dataframe thead th {\n",
       "        text-align: right;\n",
       "    }\n",
       "</style>\n",
       "<table border=\"1\" class=\"dataframe\">\n",
       "  <thead>\n",
       "    <tr style=\"text-align: right;\">\n",
       "      <th></th>\n",
       "      <th>message</th>\n",
       "      <th>sentiment</th>\n",
       "      <th>char_count</th>\n",
       "      <th>word_count</th>\n",
       "    </tr>\n",
       "  </thead>\n",
       "  <tbody>\n",
       "    <tr>\n",
       "      <th>0</th>\n",
       "      <td>เกิด|ความ|ล่าช้า</td>\n",
       "      <td>Negative</td>\n",
       "      <td>16</td>\n",
       "      <td>3</td>\n",
       "    </tr>\n",
       "    <tr>\n",
       "      <th>1</th>\n",
       "      <td>ระบบ|คิว|ไม่|มี|ประสิทธิภาพ|เคานเตอร|ควร|เปิด|...</td>\n",
       "      <td>Negative</td>\n",
       "      <td>68</td>\n",
       "      <td>12</td>\n",
       "    </tr>\n",
       "    <tr>\n",
       "      <th>2</th>\n",
       "      <td>ประทับใจ|กา|บริการ|ดีิ</td>\n",
       "      <td>Positive</td>\n",
       "      <td>22</td>\n",
       "      <td>4</td>\n",
       "    </tr>\n",
       "    <tr>\n",
       "      <th>3</th>\n",
       "      <td>เกี่ยวกับ|การ|เข้า|คิว|ทำไม|ต้อง|ให้|แทรก|คิว|...</td>\n",
       "      <td>Negative</td>\n",
       "      <td>104</td>\n",
       "      <td>23</td>\n",
       "    </tr>\n",
       "    <tr>\n",
       "      <th>4</th>\n",
       "      <td>ระยะ|เวลา|ใน|การ|ให้|บริการ|ใน|กรณี|คิว|ลูกค้า...</td>\n",
       "      <td>Negative</td>\n",
       "      <td>100</td>\n",
       "      <td>20</td>\n",
       "    </tr>\n",
       "  </tbody>\n",
       "</table>\n",
       "</div>"
      ],
      "text/plain": [
       "                                             message sentiment  char_count  \\\n",
       "0                                   เกิด|ความ|ล่าช้า  Negative          16   \n",
       "1  ระบบ|คิว|ไม่|มี|ประสิทธิภาพ|เคานเตอร|ควร|เปิด|...  Negative          68   \n",
       "2                             ประทับใจ|กา|บริการ|ดีิ  Positive          22   \n",
       "3  เกี่ยวกับ|การ|เข้า|คิว|ทำไม|ต้อง|ให้|แทรก|คิว|...  Negative         104   \n",
       "4  ระยะ|เวลา|ใน|การ|ให้|บริการ|ใน|กรณี|คิว|ลูกค้า...  Negative         100   \n",
       "\n",
       "   word_count  \n",
       "0           3  \n",
       "1          12  \n",
       "2           4  \n",
       "3          23  \n",
       "4          20  "
      ]
     },
     "execution_count": 21,
     "metadata": {},
     "output_type": "execute_result"
    }
   ],
   "source": [
    "data.head()"
   ]
  },
  {
   "cell_type": "code",
   "execution_count": 22,
   "metadata": {
    "collapsed": false
   },
   "outputs": [
    {
     "data": {
      "text/html": [
       "<div>\n",
       "<style scoped>\n",
       "    .dataframe tbody tr th:only-of-type {\n",
       "        vertical-align: middle;\n",
       "    }\n",
       "\n",
       "    .dataframe tbody tr th {\n",
       "        vertical-align: top;\n",
       "    }\n",
       "\n",
       "    .dataframe thead th {\n",
       "        text-align: right;\n",
       "    }\n",
       "</style>\n",
       "<table border=\"1\" class=\"dataframe\">\n",
       "  <thead>\n",
       "    <tr style=\"text-align: right;\">\n",
       "      <th></th>\n",
       "      <th>char_count</th>\n",
       "      <th>word_count</th>\n",
       "    </tr>\n",
       "  </thead>\n",
       "  <tbody>\n",
       "    <tr>\n",
       "      <th>count</th>\n",
       "      <td>1000.000000</td>\n",
       "      <td>1000.000000</td>\n",
       "    </tr>\n",
       "    <tr>\n",
       "      <th>mean</th>\n",
       "      <td>58.806000</td>\n",
       "      <td>11.864000</td>\n",
       "    </tr>\n",
       "    <tr>\n",
       "      <th>std</th>\n",
       "      <td>68.029364</td>\n",
       "      <td>13.986247</td>\n",
       "    </tr>\n",
       "    <tr>\n",
       "      <th>min</th>\n",
       "      <td>2.000000</td>\n",
       "      <td>1.000000</td>\n",
       "    </tr>\n",
       "    <tr>\n",
       "      <th>25%</th>\n",
       "      <td>23.000000</td>\n",
       "      <td>5.000000</td>\n",
       "    </tr>\n",
       "    <tr>\n",
       "      <th>50%</th>\n",
       "      <td>38.000000</td>\n",
       "      <td>8.000000</td>\n",
       "    </tr>\n",
       "    <tr>\n",
       "      <th>75%</th>\n",
       "      <td>66.000000</td>\n",
       "      <td>13.000000</td>\n",
       "    </tr>\n",
       "    <tr>\n",
       "      <th>max</th>\n",
       "      <td>718.000000</td>\n",
       "      <td>151.000000</td>\n",
       "    </tr>\n",
       "  </tbody>\n",
       "</table>\n",
       "</div>"
      ],
      "text/plain": [
       "        char_count   word_count\n",
       "count  1000.000000  1000.000000\n",
       "mean     58.806000    11.864000\n",
       "std      68.029364    13.986247\n",
       "min       2.000000     1.000000\n",
       "25%      23.000000     5.000000\n",
       "50%      38.000000     8.000000\n",
       "75%      66.000000    13.000000\n",
       "max     718.000000   151.000000"
      ]
     },
     "execution_count": 22,
     "metadata": {},
     "output_type": "execute_result"
    }
   ],
   "source": [
    "data.describe()"
   ]
  },
  {
   "cell_type": "code",
   "execution_count": 23,
   "metadata": {
    "collapsed": false
   },
   "outputs": [
    {
     "data": {
      "text/plain": [
       "array([[<matplotlib.axes._subplots.AxesSubplot object at 0x7f804bbc0f28>]], dtype=object)"
      ]
     },
     "execution_count": 23,
     "metadata": {},
     "output_type": "execute_result"
    },
    {
     "data": {
      "image/png": "[encoded data removed]",
      "text/plain": [
       "<matplotlib.figure.Figure at 0x7f804bb5b0f0>"
      ]
     },
     "metadata": {},
     "output_type": "display_data"
    }
   ],
   "source": [
    "data[['word_count']].hist()"
   ]
  },
  {
   "cell_type": "code",
   "execution_count": 30,
   "metadata": {
    "collapsed": false
   },
   "outputs": [
    {
     "data": {
      "text/plain": [
       "array([<matplotlib.axes._subplots.AxesSubplot object at 0x7f804b07d128>,\n",
       "       <matplotlib.axes._subplots.AxesSubplot object at 0x7f804a59c048>], dtype=object)"
      ]
     },
     "execution_count": 30,
     "metadata": {},
     "output_type": "execute_result"
    },
    {
     "data": {
      "image/png": "[encoded data removed]",
      "text/plain": [
       "<matplotlib.figure.Figure at 0x7f804b8499e8>"
      ]
     },
     "metadata": {},
     "output_type": "display_data"
    }
   ],
   "source": [
    "data.hist(column='word_count',by='sentiment', bins=50)"
   ]
  },
  {
   "cell_type": "code",
   "execution_count": null,
   "metadata": {
    "collapsed": true
   },
   "outputs": [],
   "source": []
  },
  {
   "cell_type": "markdown",
   "metadata": {
    "collapsed": true
   },
   "source": [
    "## 2. Data Preparation"
   ]
  },
  {
   "cell_type": "markdown",
   "metadata": {},
   "source": [
    "### Now, we need to tokenize the sentences into terms."
   ]
  },
  {
   "cell_type": "code",
   "execution_count": 32,
   "metadata": {
    "collapsed": true
   },
   "outputs": [],
   "source": [
    "from sklearn.feature_extraction.text import CountVectorizer\n",
    "tok = lambda x: x.split('|')\n",
    "vectorizer = CountVectorizer(tokenizer=tok)"
   ]
  },
  {
   "cell_type": "code",
   "execution_count": null,
   "metadata": {
    "collapsed": true
   },
   "outputs": [],
   "source": [
    "#vocab =['ล่าช้า', 'บริการ', 'พนักงาน', 'ดี', 'เวลา', 'คิว', 'เคาน์เตอร์', 'เปิด', 'ช่อง' , 'ลูกค้า', 'หน้าตา', 'ยิ้มแย้ม']\n",
    "#vectorizer = CountVectorizer(vocabulary=vocab, tokenizer=tok)"
   ]
  },
  {
   "cell_type": "code",
   "execution_count": 41,
   "metadata": {
    "collapsed": false
   },
   "outputs": [
    {
     "data": {
      "text/plain": [
       "CountVectorizer(analyzer='word', binary=False, decode_error='strict',\n",
       "        dtype=<class 'numpy.int64'>, encoding='utf-8', input='content',\n",
       "        lowercase=True, max_df=1.0, max_features=None, min_df=1,\n",
       "        ngram_range=(1, 1), preprocessor=None, stop_words=None,\n",
       "        strip_accents=None, token_pattern='(?u)\\\\b\\\\w\\\\w+\\\\b',\n",
       "        tokenizer=<function <lambda> at 0x7f8045d92c80>, vocabulary=None)"
      ]
     },
     "execution_count": 41,
     "metadata": {},
     "output_type": "execute_result"
    }
   ],
   "source": [
    "X_train = data['message'].tolist()\n",
    "y_train = data['sentiment'].tolist()\n",
    "\n",
    "vectorizer.fit(X_train)"
   ]
  },
  {
   "cell_type": "code",
   "execution_count": 38,
   "metadata": {
    "collapsed": false
   },
   "outputs": [
    {
     "data": {
      "text/plain": [
       "['',\n",
       " 'acm',\n",
       " 'atm',\n",
       " 'attention',\n",
       " 'attentive',\n",
       " 'back',\n",
       " 'bit',\n",
       " 'care',\n",
       " 'complain',\n",
       " 'corner']"
      ]
     },
     "execution_count": 38,
     "metadata": {},
     "output_type": "execute_result"
    }
   ],
   "source": [
    "vectorizer.get_feature_names()[:10]"
   ]
  },
  {
   "cell_type": "code",
   "execution_count": 39,
   "metadata": {
    "collapsed": true
   },
   "outputs": [],
   "source": [
    "X_train_vector = vectorizer.transform(X_train).toarray()"
   ]
  },
  {
   "cell_type": "code",
   "execution_count": 40,
   "metadata": {
    "collapsed": false
   },
   "outputs": [
    {
     "data": {
      "text/plain": [
       "array([[0, 0, 0, ..., 0, 0, 0],\n",
       "       [0, 0, 0, ..., 0, 0, 0],\n",
       "       [0, 0, 0, ..., 0, 0, 0],\n",
       "       ..., \n",
       "       [0, 0, 0, ..., 0, 0, 0],\n",
       "       [0, 0, 0, ..., 0, 0, 0],\n",
       "       [0, 0, 0, ..., 0, 0, 0]])"
      ]
     },
     "execution_count": 40,
     "metadata": {},
     "output_type": "execute_result"
    }
   ],
   "source": [
    "X_train_vector"
   ]
  },
  {
   "cell_type": "markdown",
   "metadata": {},
   "source": [
    "## 3. Training a Model"
   ]
  },
  {
   "cell_type": "code",
   "execution_count": 49,
   "metadata": {
    "collapsed": false
   },
   "outputs": [
    {
     "data": {
      "text/plain": [
       "DecisionTreeClassifier(class_weight=None, criterion='entropy', max_depth=3,\n",
       "            max_features=None, max_leaf_nodes=None,\n",
       "            min_impurity_decrease=0.0, min_impurity_split=None,\n",
       "            min_samples_leaf=1, min_samples_split=2,\n",
       "            min_weight_fraction_leaf=0.0, presort=False, random_state=None,\n",
       "            splitter='best')"
      ]
     },
     "execution_count": 49,
     "metadata": {},
     "output_type": "execute_result"
    }
   ],
   "source": [
    "from sklearn.tree import DecisionTreeClassifier\n",
    "\n",
    "model = DecisionTreeClassifier(criterion='entropy', max_depth=3)\n",
    "model.fit(X_train_vector, y_train)"
   ]
  },
  {
   "cell_type": "code",
   "execution_count": 51,
   "metadata": {
    "collapsed": false
   },
   "outputs": [
    {
     "data": {
      "image/png": "[encoded data removed]",
      "text/plain": [
       "<IPython.core.display.Image object>"
      ]
     },
     "execution_count": 51,
     "metadata": {
      "image/png": {
       "height": 288,
       "width": 716
      }
     },
     "output_type": "execute_result"
    }
   ],
   "source": [
    "import os\n",
    "from io import StringIO\n",
    "import pydotplus\n",
    "from IPython.display import Image\n",
    "from sklearn.tree import export_graphviz\n",
    "\n",
    "feature_names = vectorizer.get_feature_names()\n",
    "class_names = model.classes_\n",
    "\n",
    "dot_data = StringIO()\n",
    "export_graphviz(model, out_file=dot_data,  \n",
    "                     feature_names=feature_names,  \n",
    "                     class_names=class_names,  \n",
    "                     filled=True, rounded=True,  \n",
    "                     special_characters=True)  \n",
    "\n",
    "graph = pydotplus.graph_from_dot_data(dot_data.getvalue())  \n",
    "Image(graph.create_png(), retina=True)"
   ]
  },
  {
   "cell_type": "markdown",
   "metadata": {},
   "source": [
    "## 4. Test a Model"
   ]
  },
  {
   "cell_type": "code",
   "execution_count": 50,
   "metadata": {
    "collapsed": false
   },
   "outputs": [
    {
     "name": "stdout",
     "output_type": "stream",
     "text": [
      "[[0 0 0 ..., 0 0 0]]\n",
      "['Negative']\n"
     ]
    }
   ],
   "source": [
    "x_test = ['[บริการ|ดี|ยิ้มแย้ม|]']\n",
    "x_vector_test = vectorizer.transform(x_test).toarray()\n",
    "predicted = model.predict(x_vector_test)\n",
    "\n",
    "print(x_vector_test)\n",
    "print(predicted)"
   ]
  },
  {
   "cell_type": "code",
   "execution_count": null,
   "metadata": {
    "collapsed": true
   },
   "outputs": [],
   "source": []
  },
  {
   "cell_type": "markdown",
   "metadata": {},
   "source": [
    "## 2. More prepare data"
   ]
  },
  {
   "cell_type": "markdown",
   "metadata": {},
   "source": [
    "### 2.1 Removal of Stop Words"
   ]
  },
  {
   "cell_type": "code",
   "execution_count": 54,
   "metadata": {
    "collapsed": true
   },
   "outputs": [],
   "source": [
    "stop = ['แต่','และ','ก็','ให้','นะ','จ๊ะ','อะ','ค่ะ','ครับ','หรอ','หรอก','คะ','ค่า','การ','ความ','ใน','ที่','ซึ่ง','หรือ']\n",
    "data['message_remove_stop'] = data['message'].apply(lambda x: '|'.join(x for x in x.split('|') if x not in stop))"
   ]
  },
  {
   "cell_type": "code",
   "execution_count": 58,
   "metadata": {
    "collapsed": false
   },
   "outputs": [
    {
     "data": {
      "text/html": [
       "<div>\n",
       "<style scoped>\n",
       "    .dataframe tbody tr th:only-of-type {\n",
       "        vertical-align: middle;\n",
       "    }\n",
       "\n",
       "    .dataframe tbody tr th {\n",
       "        vertical-align: top;\n",
       "    }\n",
       "\n",
       "    .dataframe thead th {\n",
       "        text-align: right;\n",
       "    }\n",
       "</style>\n",
       "<table border=\"1\" class=\"dataframe\">\n",
       "  <thead>\n",
       "    <tr style=\"text-align: right;\">\n",
       "      <th></th>\n",
       "      <th>message</th>\n",
       "      <th>sentiment</th>\n",
       "      <th>char_count</th>\n",
       "      <th>word_count</th>\n",
       "      <th>message_remove_stop</th>\n",
       "    </tr>\n",
       "  </thead>\n",
       "  <tbody>\n",
       "    <tr>\n",
       "      <th>0</th>\n",
       "      <td>เกิด|ความ|ล่าช้า</td>\n",
       "      <td>Negative</td>\n",
       "      <td>16</td>\n",
       "      <td>3</td>\n",
       "      <td>เกิด|ล่าช้า</td>\n",
       "    </tr>\n",
       "    <tr>\n",
       "      <th>1</th>\n",
       "      <td>ระบบ|คิว|ไม่|มี|ประสิทธิภาพ|เคานเตอร|ควร|เปิด|...</td>\n",
       "      <td>Negative</td>\n",
       "      <td>68</td>\n",
       "      <td>12</td>\n",
       "      <td>ระบบ|คิว|ไม่|มี|ประสิทธิภาพ|เคานเตอร|ควร|เปิด|...</td>\n",
       "    </tr>\n",
       "    <tr>\n",
       "      <th>2</th>\n",
       "      <td>ประทับใจ|กา|บริการ|ดีิ</td>\n",
       "      <td>Positive</td>\n",
       "      <td>22</td>\n",
       "      <td>4</td>\n",
       "      <td>ประทับใจ|กา|บริการ|ดีิ</td>\n",
       "    </tr>\n",
       "    <tr>\n",
       "      <th>3</th>\n",
       "      <td>เกี่ยวกับ|การ|เข้า|คิว|ทำไม|ต้อง|ให้|แทรก|คิว|...</td>\n",
       "      <td>Negative</td>\n",
       "      <td>104</td>\n",
       "      <td>23</td>\n",
       "      <td>เกี่ยวกับ|เข้า|คิว|ทำไม|ต้อง|แทรก|คิว|ขณะ|คน|ม...</td>\n",
       "    </tr>\n",
       "    <tr>\n",
       "      <th>4</th>\n",
       "      <td>ระยะ|เวลา|ใน|การ|ให้|บริการ|ใน|กรณี|คิว|ลูกค้า...</td>\n",
       "      <td>Negative</td>\n",
       "      <td>100</td>\n",
       "      <td>20</td>\n",
       "      <td>ระยะ|เวลา|บริการ|กรณี|คิว|ลูกค้า|มี|จำนวน|เยอะ...</td>\n",
       "    </tr>\n",
       "  </tbody>\n",
       "</table>\n",
       "</div>"
      ],
      "text/plain": [
       "                                             message sentiment  char_count  \\\n",
       "0                                   เกิด|ความ|ล่าช้า  Negative          16   \n",
       "1  ระบบ|คิว|ไม่|มี|ประสิทธิภาพ|เคานเตอร|ควร|เปิด|...  Negative          68   \n",
       "2                             ประทับใจ|กา|บริการ|ดีิ  Positive          22   \n",
       "3  เกี่ยวกับ|การ|เข้า|คิว|ทำไม|ต้อง|ให้|แทรก|คิว|...  Negative         104   \n",
       "4  ระยะ|เวลา|ใน|การ|ให้|บริการ|ใน|กรณี|คิว|ลูกค้า...  Negative         100   \n",
       "\n",
       "   word_count                                message_remove_stop  \n",
       "0           3                                        เกิด|ล่าช้า  \n",
       "1          12  ระบบ|คิว|ไม่|มี|ประสิทธิภาพ|เคานเตอร|ควร|เปิด|...  \n",
       "2           4                             ประทับใจ|กา|บริการ|ดีิ  \n",
       "3          23  เกี่ยวกับ|เข้า|คิว|ทำไม|ต้อง|แทรก|คิว|ขณะ|คน|ม...  \n",
       "4          20  ระยะ|เวลา|บริการ|กรณี|คิว|ลูกค้า|มี|จำนวน|เยอะ...  "
      ]
     },
     "execution_count": 58,
     "metadata": {},
     "output_type": "execute_result"
    }
   ],
   "source": [
    "data.head()"
   ]
  },
  {
   "cell_type": "markdown",
   "metadata": {},
   "source": [
    "### 2.2 Use common words"
   ]
  },
  {
   "cell_type": "code",
   "execution_count": 60,
   "metadata": {
    "collapsed": false
   },
   "outputs": [
    {
     "data": {
      "text/plain": [
       "บริการ     479\n",
       "พนักงาน    399\n",
       "ไม่        373\n",
       "คิว        340\n",
       "รอ         327\n",
       "ดีิ        308\n",
       "มาก        266\n",
       "นาน        248\n",
       "ลูกค้า     242\n",
       "มี         241\n",
       "dtype: int64"
      ]
     },
     "execution_count": 60,
     "metadata": {},
     "output_type": "execute_result"
    }
   ],
   "source": [
    "freq = pd.Series('|'.join(data['message_remove_stop']).split('|')).value_counts()[:10]\n",
    "freq"
   ]
  },
  {
   "cell_type": "code",
   "execution_count": 74,
   "metadata": {
    "collapsed": false
   },
   "outputs": [
    {
     "data": {
      "text/plain": [
       "(500,)"
      ]
     },
     "execution_count": 74,
     "metadata": {},
     "output_type": "execute_result"
    }
   ],
   "source": [
    "freq = pd.Series('|'.join(data['message_remove_stop']).split('|')).value_counts()[:500]\n",
    "freq.shape"
   ]
  },
  {
   "cell_type": "code",
   "execution_count": 71,
   "metadata": {
    "collapsed": true
   },
   "outputs": [],
   "source": [
    "data['message_word_freq'] = data['message_remove_stop'].apply(lambda x: '|'.join(x for x in x.split('|') if x in freq))"
   ]
  },
  {
   "cell_type": "code",
   "execution_count": 72,
   "metadata": {
    "collapsed": false
   },
   "outputs": [
    {
     "data": {
      "text/html": [
       "<div>\n",
       "<style scoped>\n",
       "    .dataframe tbody tr th:only-of-type {\n",
       "        vertical-align: middle;\n",
       "    }\n",
       "\n",
       "    .dataframe tbody tr th {\n",
       "        vertical-align: top;\n",
       "    }\n",
       "\n",
       "    .dataframe thead th {\n",
       "        text-align: right;\n",
       "    }\n",
       "</style>\n",
       "<table border=\"1\" class=\"dataframe\">\n",
       "  <thead>\n",
       "    <tr style=\"text-align: right;\">\n",
       "      <th></th>\n",
       "      <th>message</th>\n",
       "      <th>sentiment</th>\n",
       "      <th>char_count</th>\n",
       "      <th>word_count</th>\n",
       "      <th>message_remove_stop</th>\n",
       "      <th>message_word_freq</th>\n",
       "    </tr>\n",
       "  </thead>\n",
       "  <tbody>\n",
       "    <tr>\n",
       "      <th>0</th>\n",
       "      <td>เกิด|ความ|ล่าช้า</td>\n",
       "      <td>Negative</td>\n",
       "      <td>16</td>\n",
       "      <td>3</td>\n",
       "      <td>เกิด|ล่าช้า</td>\n",
       "      <td>เกิด|ล่าช้า</td>\n",
       "    </tr>\n",
       "    <tr>\n",
       "      <th>1</th>\n",
       "      <td>ระบบ|คิว|ไม่|มี|ประสิทธิภาพ|เคานเตอร|ควร|เปิด|...</td>\n",
       "      <td>Negative</td>\n",
       "      <td>68</td>\n",
       "      <td>12</td>\n",
       "      <td>ระบบ|คิว|ไม่|มี|ประสิทธิภาพ|เคานเตอร|ควร|เปิด|...</td>\n",
       "      <td>ระบบ|คิว|ไม่|มี|ประสิทธิภาพ|ควร|เปิด|เพิ่ม|ตาม...</td>\n",
       "    </tr>\n",
       "    <tr>\n",
       "      <th>2</th>\n",
       "      <td>ประทับใจ|กา|บริการ|ดีิ</td>\n",
       "      <td>Positive</td>\n",
       "      <td>22</td>\n",
       "      <td>4</td>\n",
       "      <td>ประทับใจ|กา|บริการ|ดีิ</td>\n",
       "      <td>ประทับใจ|กา|บริการ|ดีิ</td>\n",
       "    </tr>\n",
       "    <tr>\n",
       "      <th>3</th>\n",
       "      <td>เกี่ยวกับ|การ|เข้า|คิว|ทำไม|ต้อง|ให้|แทรก|คิว|...</td>\n",
       "      <td>Negative</td>\n",
       "      <td>104</td>\n",
       "      <td>23</td>\n",
       "      <td>เกี่ยวกับ|เข้า|คิว|ทำไม|ต้อง|แทรก|คิว|ขณะ|คน|ม...</td>\n",
       "      <td>เกี่ยวกับ|เข้า|คิว|ทำไม|ต้อง|แทรก|คิว|ขณะ|คน|ม...</td>\n",
       "    </tr>\n",
       "    <tr>\n",
       "      <th>4</th>\n",
       "      <td>ระยะ|เวลา|ใน|การ|ให้|บริการ|ใน|กรณี|คิว|ลูกค้า...</td>\n",
       "      <td>Negative</td>\n",
       "      <td>100</td>\n",
       "      <td>20</td>\n",
       "      <td>ระยะ|เวลา|บริการ|กรณี|คิว|ลูกค้า|มี|จำนวน|เยอะ...</td>\n",
       "      <td>ระยะ|เวลา|บริการ|คิว|ลูกค้า|มี|จำนวน|เยอะ|เปิด...</td>\n",
       "    </tr>\n",
       "  </tbody>\n",
       "</table>\n",
       "</div>"
      ],
      "text/plain": [
       "                                             message sentiment  char_count  \\\n",
       "0                                   เกิด|ความ|ล่าช้า  Negative          16   \n",
       "1  ระบบ|คิว|ไม่|มี|ประสิทธิภาพ|เคานเตอร|ควร|เปิด|...  Negative          68   \n",
       "2                             ประทับใจ|กา|บริการ|ดีิ  Positive          22   \n",
       "3  เกี่ยวกับ|การ|เข้า|คิว|ทำไม|ต้อง|ให้|แทรก|คิว|...  Negative         104   \n",
       "4  ระยะ|เวลา|ใน|การ|ให้|บริการ|ใน|กรณี|คิว|ลูกค้า...  Negative         100   \n",
       "\n",
       "   word_count                                message_remove_stop  \\\n",
       "0           3                                        เกิด|ล่าช้า   \n",
       "1          12  ระบบ|คิว|ไม่|มี|ประสิทธิภาพ|เคานเตอร|ควร|เปิด|...   \n",
       "2           4                             ประทับใจ|กา|บริการ|ดีิ   \n",
       "3          23  เกี่ยวกับ|เข้า|คิว|ทำไม|ต้อง|แทรก|คิว|ขณะ|คน|ม...   \n",
       "4          20  ระยะ|เวลา|บริการ|กรณี|คิว|ลูกค้า|มี|จำนวน|เยอะ...   \n",
       "\n",
       "                                   message_word_freq  \n",
       "0                                        เกิด|ล่าช้า  \n",
       "1  ระบบ|คิว|ไม่|มี|ประสิทธิภาพ|ควร|เปิด|เพิ่ม|ตาม...  \n",
       "2                             ประทับใจ|กา|บริการ|ดีิ  \n",
       "3  เกี่ยวกับ|เข้า|คิว|ทำไม|ต้อง|แทรก|คิว|ขณะ|คน|ม...  \n",
       "4  ระยะ|เวลา|บริการ|คิว|ลูกค้า|มี|จำนวน|เยอะ|เปิด...  "
      ]
     },
     "execution_count": 72,
     "metadata": {},
     "output_type": "execute_result"
    }
   ],
   "source": [
    "data.head()"
   ]
  },
  {
   "cell_type": "markdown",
   "metadata": {},
   "source": [
    "### 2.3 Rare word removal"
   ]
  },
  {
   "cell_type": "code",
   "execution_count": 76,
   "metadata": {
    "collapsed": false
   },
   "outputs": [
    {
     "data": {
      "text/plain": [
       "(50,)"
      ]
     },
     "execution_count": 76,
     "metadata": {},
     "output_type": "execute_result"
    }
   ],
   "source": [
    "rare = pd.Series('|'.join(data['message_remove_stop']).split('|')).value_counts()[-50:]\n",
    "rare.shape"
   ]
  },
  {
   "cell_type": "code",
   "execution_count": 78,
   "metadata": {
    "collapsed": false
   },
   "outputs": [
    {
     "data": {
      "text/html": [
       "<div>\n",
       "<style scoped>\n",
       "    .dataframe tbody tr th:only-of-type {\n",
       "        vertical-align: middle;\n",
       "    }\n",
       "\n",
       "    .dataframe tbody tr th {\n",
       "        vertical-align: top;\n",
       "    }\n",
       "\n",
       "    .dataframe thead th {\n",
       "        text-align: right;\n",
       "    }\n",
       "</style>\n",
       "<table border=\"1\" class=\"dataframe\">\n",
       "  <thead>\n",
       "    <tr style=\"text-align: right;\">\n",
       "      <th></th>\n",
       "      <th>message</th>\n",
       "      <th>sentiment</th>\n",
       "      <th>char_count</th>\n",
       "      <th>word_count</th>\n",
       "      <th>message_remove_stop</th>\n",
       "      <th>message_word_freq</th>\n",
       "      <th>message_word_rare</th>\n",
       "    </tr>\n",
       "  </thead>\n",
       "  <tbody>\n",
       "    <tr>\n",
       "      <th>0</th>\n",
       "      <td>เกิด|ความ|ล่าช้า</td>\n",
       "      <td>Negative</td>\n",
       "      <td>16</td>\n",
       "      <td>3</td>\n",
       "      <td>เกิด|ล่าช้า</td>\n",
       "      <td>เกิด|ล่าช้า</td>\n",
       "      <td>เกิด|ล่าช้า</td>\n",
       "    </tr>\n",
       "    <tr>\n",
       "      <th>1</th>\n",
       "      <td>ระบบ|คิว|ไม่|มี|ประสิทธิภาพ|เคานเตอร|ควร|เปิด|...</td>\n",
       "      <td>Negative</td>\n",
       "      <td>68</td>\n",
       "      <td>12</td>\n",
       "      <td>ระบบ|คิว|ไม่|มี|ประสิทธิภาพ|เคานเตอร|ควร|เปิด|...</td>\n",
       "      <td>ระบบ|คิว|ไม่|มี|ประสิทธิภาพ|ควร|เปิด|เพิ่ม|ตาม...</td>\n",
       "      <td>ระบบ|คิว|ไม่|มี|ประสิทธิภาพ|ควร|เปิด|เพิ่ม|ตาม...</td>\n",
       "    </tr>\n",
       "    <tr>\n",
       "      <th>2</th>\n",
       "      <td>ประทับใจ|กา|บริการ|ดีิ</td>\n",
       "      <td>Positive</td>\n",
       "      <td>22</td>\n",
       "      <td>4</td>\n",
       "      <td>ประทับใจ|กา|บริการ|ดีิ</td>\n",
       "      <td>ประทับใจ|กา|บริการ|ดีิ</td>\n",
       "      <td>ประทับใจ|กา|บริการ|ดีิ</td>\n",
       "    </tr>\n",
       "    <tr>\n",
       "      <th>3</th>\n",
       "      <td>เกี่ยวกับ|การ|เข้า|คิว|ทำไม|ต้อง|ให้|แทรก|คิว|...</td>\n",
       "      <td>Negative</td>\n",
       "      <td>104</td>\n",
       "      <td>23</td>\n",
       "      <td>เกี่ยวกับ|เข้า|คิว|ทำไม|ต้อง|แทรก|คิว|ขณะ|คน|ม...</td>\n",
       "      <td>เกี่ยวกับ|เข้า|คิว|ทำไม|ต้อง|แทรก|คิว|ขณะ|คน|ม...</td>\n",
       "      <td>เกี่ยวกับ|เข้า|คิว|ทำไม|ต้อง|แทรก|คิว|ขณะ|คน|ม...</td>\n",
       "    </tr>\n",
       "    <tr>\n",
       "      <th>4</th>\n",
       "      <td>ระยะ|เวลา|ใน|การ|ให้|บริการ|ใน|กรณี|คิว|ลูกค้า...</td>\n",
       "      <td>Negative</td>\n",
       "      <td>100</td>\n",
       "      <td>20</td>\n",
       "      <td>ระยะ|เวลา|บริการ|กรณี|คิว|ลูกค้า|มี|จำนวน|เยอะ...</td>\n",
       "      <td>ระยะ|เวลา|บริการ|คิว|ลูกค้า|มี|จำนวน|เยอะ|เปิด...</td>\n",
       "      <td>ระยะ|เวลา|บริการ|คิว|ลูกค้า|มี|จำนวน|เยอะ|เปิด...</td>\n",
       "    </tr>\n",
       "    <tr>\n",
       "      <th>5</th>\n",
       "      <td>ผู้จัดการ|และ|พนักงาน|นี้|เอาใจใส่|ยิ้มแย้ม|แจ...</td>\n",
       "      <td>Positive</td>\n",
       "      <td>58</td>\n",
       "      <td>9</td>\n",
       "      <td>ผู้จัดการ|พนักงาน|นี้|เอาใจใส่|ยิ้มแย้ม|แจ่มใส...</td>\n",
       "      <td>ผู้จัดการ|พนักงาน|นี้|เอาใจใส่|ยิ้มแย้ม|แจ่มใส...</td>\n",
       "      <td>ผู้จัดการ|พนักงาน|นี้|เอาใจใส่|ยิ้มแย้ม|แจ่มใส...</td>\n",
       "    </tr>\n",
       "    <tr>\n",
       "      <th>6</th>\n",
       "      <td>เข้าใจ|คน|เยอะ|แต่|น่า|บริกร|ให้|เร็ว|กว่า|นี้</td>\n",
       "      <td>Negative</td>\n",
       "      <td>46</td>\n",
       "      <td>10</td>\n",
       "      <td>เข้าใจ|คน|เยอะ|น่า|บริกร|เร็ว|กว่า|นี้</td>\n",
       "      <td>เข้าใจ|คน|เยอะ|น่า|เร็ว|กว่า|นี้</td>\n",
       "      <td>เข้าใจ|คน|เยอะ|น่า|เร็ว|กว่า|นี้</td>\n",
       "    </tr>\n",
       "    <tr>\n",
       "      <th>7</th>\n",
       "      <td>ระยะ|เวลา|ใน|การ|รอ|คิว|และ|การ|ทำ|รายการ|ควร|...</td>\n",
       "      <td>Negative</td>\n",
       "      <td>182</td>\n",
       "      <td>39</td>\n",
       "      <td>ระยะ|เวลา|รอ|คิว|ทำ|รายการ|ควร|เร็ว|กว่า|นี้|เ...</td>\n",
       "      <td>ระยะ|เวลา|รอ|คิว|ทำ|รายการ|ควร|เร็ว|กว่า|นี้|เ...</td>\n",
       "      <td>ระยะ|เวลา|รอ|คิว|ทำ|รายการ|ควร|เร็ว|กว่า|นี้|เ...</td>\n",
       "    </tr>\n",
       "    <tr>\n",
       "      <th>8</th>\n",
       "      <td>พนักงาน|เต็มใจ|ใน|การ|บริการ|ยิ้มแย้ม|แจ่มใส|ดีิ</td>\n",
       "      <td>Positive</td>\n",
       "      <td>48</td>\n",
       "      <td>8</td>\n",
       "      <td>พนักงาน|เต็มใจ|บริการ|ยิ้มแย้ม|แจ่มใส|ดีิ</td>\n",
       "      <td>พนักงาน|เต็มใจ|บริการ|ยิ้มแย้ม|แจ่มใส|ดีิ</td>\n",
       "      <td>พนักงาน|เต็มใจ|บริการ|ยิ้มแย้ม|แจ่มใส|ดีิ</td>\n",
       "    </tr>\n",
       "    <tr>\n",
       "      <th>9</th>\n",
       "      <td>เครื่อง|กด|บัตร|คิว|สำหรับ|เสีย|แต่|พนักงาน|บร...</td>\n",
       "      <td>Positive</td>\n",
       "      <td>62</td>\n",
       "      <td>12</td>\n",
       "      <td>เครื่อง|กด|บัตร|คิว|สำหรับ|เสีย|พนักงาน|บริหาร...</td>\n",
       "      <td>เครื่อง|กด|บัตร|คิว|สำหรับ|เสีย|พนักงาน|บริหาร...</td>\n",
       "      <td>เครื่อง|กด|บัตร|คิว|สำหรับ|เสีย|พนักงาน|บริหาร...</td>\n",
       "    </tr>\n",
       "  </tbody>\n",
       "</table>\n",
       "</div>"
      ],
      "text/plain": [
       "                                             message sentiment  char_count  \\\n",
       "0                                   เกิด|ความ|ล่าช้า  Negative          16   \n",
       "1  ระบบ|คิว|ไม่|มี|ประสิทธิภาพ|เคานเตอร|ควร|เปิด|...  Negative          68   \n",
       "2                             ประทับใจ|กา|บริการ|ดีิ  Positive          22   \n",
       "3  เกี่ยวกับ|การ|เข้า|คิว|ทำไม|ต้อง|ให้|แทรก|คิว|...  Negative         104   \n",
       "4  ระยะ|เวลา|ใน|การ|ให้|บริการ|ใน|กรณี|คิว|ลูกค้า...  Negative         100   \n",
       "5  ผู้จัดการ|และ|พนักงาน|นี้|เอาใจใส่|ยิ้มแย้ม|แจ...  Positive          58   \n",
       "6     เข้าใจ|คน|เยอะ|แต่|น่า|บริกร|ให้|เร็ว|กว่า|นี้  Negative          46   \n",
       "7  ระยะ|เวลา|ใน|การ|รอ|คิว|และ|การ|ทำ|รายการ|ควร|...  Negative         182   \n",
       "8   พนักงาน|เต็มใจ|ใน|การ|บริการ|ยิ้มแย้ม|แจ่มใส|ดีิ  Positive          48   \n",
       "9  เครื่อง|กด|บัตร|คิว|สำหรับ|เสีย|แต่|พนักงาน|บร...  Positive          62   \n",
       "\n",
       "   word_count                                message_remove_stop  \\\n",
       "0           3                                        เกิด|ล่าช้า   \n",
       "1          12  ระบบ|คิว|ไม่|มี|ประสิทธิภาพ|เคานเตอร|ควร|เปิด|...   \n",
       "2           4                             ประทับใจ|กา|บริการ|ดีิ   \n",
       "3          23  เกี่ยวกับ|เข้า|คิว|ทำไม|ต้อง|แทรก|คิว|ขณะ|คน|ม...   \n",
       "4          20  ระยะ|เวลา|บริการ|กรณี|คิว|ลูกค้า|มี|จำนวน|เยอะ...   \n",
       "5           9  ผู้จัดการ|พนักงาน|นี้|เอาใจใส่|ยิ้มแย้ม|แจ่มใส...   \n",
       "6          10             เข้าใจ|คน|เยอะ|น่า|บริกร|เร็ว|กว่า|นี้   \n",
       "7          39  ระยะ|เวลา|รอ|คิว|ทำ|รายการ|ควร|เร็ว|กว่า|นี้|เ...   \n",
       "8           8          พนักงาน|เต็มใจ|บริการ|ยิ้มแย้ม|แจ่มใส|ดีิ   \n",
       "9          12  เครื่อง|กด|บัตร|คิว|สำหรับ|เสีย|พนักงาน|บริหาร...   \n",
       "\n",
       "                                   message_word_freq  \\\n",
       "0                                        เกิด|ล่าช้า   \n",
       "1  ระบบ|คิว|ไม่|มี|ประสิทธิภาพ|ควร|เปิด|เพิ่ม|ตาม...   \n",
       "2                             ประทับใจ|กา|บริการ|ดีิ   \n",
       "3  เกี่ยวกับ|เข้า|คิว|ทำไม|ต้อง|แทรก|คิว|ขณะ|คน|ม...   \n",
       "4  ระยะ|เวลา|บริการ|คิว|ลูกค้า|มี|จำนวน|เยอะ|เปิด...   \n",
       "5  ผู้จัดการ|พนักงาน|นี้|เอาใจใส่|ยิ้มแย้ม|แจ่มใส...   \n",
       "6                   เข้าใจ|คน|เยอะ|น่า|เร็ว|กว่า|นี้   \n",
       "7  ระยะ|เวลา|รอ|คิว|ทำ|รายการ|ควร|เร็ว|กว่า|นี้|เ...   \n",
       "8          พนักงาน|เต็มใจ|บริการ|ยิ้มแย้ม|แจ่มใส|ดีิ   \n",
       "9  เครื่อง|กด|บัตร|คิว|สำหรับ|เสีย|พนักงาน|บริหาร...   \n",
       "\n",
       "                                   message_word_rare  \n",
       "0                                        เกิด|ล่าช้า  \n",
       "1  ระบบ|คิว|ไม่|มี|ประสิทธิภาพ|ควร|เปิด|เพิ่ม|ตาม...  \n",
       "2                             ประทับใจ|กา|บริการ|ดีิ  \n",
       "3  เกี่ยวกับ|เข้า|คิว|ทำไม|ต้อง|แทรก|คิว|ขณะ|คน|ม...  \n",
       "4  ระยะ|เวลา|บริการ|คิว|ลูกค้า|มี|จำนวน|เยอะ|เปิด...  \n",
       "5  ผู้จัดการ|พนักงาน|นี้|เอาใจใส่|ยิ้มแย้ม|แจ่มใส...  \n",
       "6                   เข้าใจ|คน|เยอะ|น่า|เร็ว|กว่า|นี้  \n",
       "7  ระยะ|เวลา|รอ|คิว|ทำ|รายการ|ควร|เร็ว|กว่า|นี้|เ...  \n",
       "8          พนักงาน|เต็มใจ|บริการ|ยิ้มแย้ม|แจ่มใส|ดีิ  \n",
       "9  เครื่อง|กด|บัตร|คิว|สำหรับ|เสีย|พนักงาน|บริหาร...  "
      ]
     },
     "execution_count": 78,
     "metadata": {},
     "output_type": "execute_result"
    }
   ],
   "source": [
    "data['message_word_rare'] = data['message_word_freq'].apply(lambda x: '|'.join(x for x in x.split('|') if x not in rare))\n",
    "data.head(10)"
   ]
  },
  {
   "cell_type": "markdown",
   "metadata": {},
   "source": []
  },
  {
   "cell_type": "markdown",
   "metadata": {},
   "source": [
    "### 2.4 Vectorization with tfidf"
   ]
  },
  {
   "cell_type": "code",
   "execution_count": 79,
   "metadata": {
    "collapsed": true
   },
   "outputs": [],
   "source": [
    "from sklearn.feature_extraction.text import TfidfVectorizer\n",
    "tfidf = TfidfVectorizer(tokenizer=tok)\n",
    "X_vector_train = tfidf.fit_transform(data['message_word_rare'])"
   ]
  },
  {
   "cell_type": "markdown",
   "metadata": {},
   "source": [
    "## 3. Traininig a Model"
   ]
  },
  {
   "cell_type": "code",
   "execution_count": 82,
   "metadata": {
    "collapsed": false
   },
   "outputs": [
    {
     "data": {
      "text/plain": [
       "DecisionTreeClassifier(class_weight=None, criterion='gini', max_depth=None,\n",
       "            max_features=None, max_leaf_nodes=None,\n",
       "            min_impurity_decrease=0.0, min_impurity_split=None,\n",
       "            min_samples_leaf=1, min_samples_split=2,\n",
       "            min_weight_fraction_leaf=0.0, presort=False, random_state=None,\n",
       "            splitter='best')"
      ]
     },
     "execution_count": 82,
     "metadata": {},
     "output_type": "execute_result"
    }
   ],
   "source": [
    "model = DecisionTreeClassifier()\n",
    "model.fit(X_vector_train, y_train)"
   ]
  },
  {
   "cell_type": "markdown",
   "metadata": {},
   "source": [
    "## 4. Test a Model"
   ]
  },
  {
   "cell_type": "code",
   "execution_count": 84,
   "metadata": {
    "collapsed": false
   },
   "outputs": [
    {
     "name": "stdout",
     "output_type": "stream",
     "text": [
      "['Positive']\n"
     ]
    }
   ],
   "source": [
    "x_test = ['[บริการ|ดี|ยิ้มแย้ม|]']\n",
    "x_vector_test = tfidf.transform(x_test).toarray()\n",
    "predicted = model.predict(x_vector_test)\n",
    "\n",
    "print(predicted)"
   ]
  },
  {
   "cell_type": "markdown",
   "metadata": {},
   "source": [
    "## 5. Evaluation"
   ]
  },
  {
   "cell_type": "code",
   "execution_count": 85,
   "metadata": {
    "collapsed": true
   },
   "outputs": [],
   "source": [
    "from sklearn.model_selection import train_test_split"
   ]
  },
  {
   "cell_type": "code",
   "execution_count": 88,
   "metadata": {
    "collapsed": true
   },
   "outputs": [],
   "source": [
    "y_train = data['sentiment'].tolist()\n",
    "X_train_s, X_test_s, y_train_s, y_test_s = train_test_split(X_vector_train, y_train, test_size=0.2, random_state=42)"
   ]
  },
  {
   "cell_type": "code",
   "execution_count": 89,
   "metadata": {
    "collapsed": false
   },
   "outputs": [
    {
     "data": {
      "text/plain": [
       "DecisionTreeClassifier(class_weight=None, criterion='gini', max_depth=None,\n",
       "            max_features=None, max_leaf_nodes=None,\n",
       "            min_impurity_decrease=0.0, min_impurity_split=None,\n",
       "            min_samples_leaf=1, min_samples_split=2,\n",
       "            min_weight_fraction_leaf=0.0, presort=False, random_state=None,\n",
       "            splitter='best')"
      ]
     },
     "execution_count": 89,
     "metadata": {},
     "output_type": "execute_result"
    }
   ],
   "source": [
    "model.fit(X_train_s, y_train_s)"
   ]
  },
  {
   "cell_type": "code",
   "execution_count": 91,
   "metadata": {
    "collapsed": false
   },
   "outputs": [
    {
     "data": {
      "text/plain": [
       "0.78500000000000003"
      ]
     },
     "execution_count": 91,
     "metadata": {},
     "output_type": "execute_result"
    }
   ],
   "source": [
    "model.score(X_test_s, y_test_s)"
   ]
  },
  {
   "cell_type": "code",
   "execution_count": null,
   "metadata": {
    "collapsed": true
   },
   "outputs": [],
   "source": []
  }
 ],
 "metadata": {
  "kernelspec": {
   "display_name": "Python 3",
   "language": "python",
   "name": "python3"
  },
  "language_info": {
   "codemirror_mode": {
    "name": "ipython",
    "version": 3
   },
   "file_extension": ".py",
   "mimetype": "text/x-python",
   "name": "python",
   "nbconvert_exporter": "python",
   "pygments_lexer": "ipython3",
   "version": "3.6.0"
  }
 },
 "nbformat": 4,
 "nbformat_minor": 2
}
