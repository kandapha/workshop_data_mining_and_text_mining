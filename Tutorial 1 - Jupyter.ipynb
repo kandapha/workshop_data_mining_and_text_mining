{
 "cells": [
  {
   "cell_type": "markdown",
   "metadata": {
    "slideshow": {
     "slide_type": "slide"
    }
   },
   "source": [
    "# Tutorial 1: Be Familiar with Jupyter"
   ]
  },
  {
   "cell_type": "markdown",
   "metadata": {
    "deletable": true,
    "editable": true,
    "slideshow": {
     "slide_type": "slide"
    }
   },
   "source": [
    "<center>... Journaling your Learning or Research scientifically ...</center>"
   ]
  },
  {
   "cell_type": "markdown",
   "metadata": {
    "slideshow": {
     "slide_type": "slide"
    }
   },
   "source": [
    "## Overview\n",
    "\n",
    "* System and Kernel\n",
    "* Cells\n",
    "* Shortcut Keys\n",
    "* Hand-on: Let's make the Journal"
   ]
  },
  {
   "cell_type": "markdown",
   "metadata": {
    "deletable": true,
    "editable": true,
    "slideshow": {
     "slide_type": "subslide"
    }
   },
   "source": [
    "* Furture information: \"[Jupyter Notebook Tutorial: The Definitive Guide][1]\"\n",
    "[1]: https://www.datacamp.com/community/tutorials/tutorial-jupyter-notebook##History \"Python history\""
   ]
  },
  {
   "cell_type": "markdown",
   "metadata": {
    "deletable": true,
    "editable": true,
    "slideshow": {
     "slide_type": "slide"
    }
   },
   "source": [
    "## System and Kernel\n",
    "\n",
    "![Jupyter Notebook's components](Tutorial 1/notebook_components.png)"
   ]
  },
  {
   "cell_type": "markdown",
   "metadata": {
    "deletable": true,
    "editable": true,
    "slideshow": {
     "slide_type": "slide"
    }
   },
   "source": [
    "## Cells\n",
    "\n",
    "* __Code__: Depend on the kernel\n",
    "    * Python in this case\n",
    "    \n",
    "* __Markdown__: One of the popular markup languages\n",
    "    * See the [link](https://help.github.com/articles/basic-writing-and-formatting-syntax/) in your _Help menu_\n",
    "\n",
    "* __Raw__: Just the text keeper"
   ]
  },
  {
   "cell_type": "markdown",
   "metadata": {
    "deletable": true,
    "editable": true,
    "slideshow": {
     "slide_type": "slide"
    }
   },
   "source": [
    "## Shortcut Keys\n",
    "\n",
    "* __Ctrl__+m h\n",
    "* __Ctrl__+__Shift__+p"
   ]
  },
  {
   "cell_type": "markdown",
   "metadata": {
    "deletable": true,
    "editable": true,
    "slideshow": {
     "slide_type": "slide"
    }
   },
   "source": [
    "## Hand-on: Let's make the Journal\n",
    "\n",
    "* [Hand-on](Tutorial 1/Tutorial 1 - Hand-on.ipynb): Let's make the Journal"
   ]
  },
  {
   "cell_type": "code",
   "execution_count": null,
   "metadata": {
    "collapsed": true
   },
   "outputs": [],
   "source": []
  }
 ],
 "metadata": {
  "celltoolbar": "Slideshow",
  "kernelspec": {
   "display_name": "Python 3",
   "language": "python",
   "name": "python3"
  },
  "language_info": {
   "codemirror_mode": {
    "name": "ipython",
    "version": 3
   },
   "file_extension": ".py",
   "mimetype": "text/x-python",
   "name": "python",
   "nbconvert_exporter": "python",
   "pygments_lexer": "ipython3",
   "version": "3.6.0"
  }
 },
 "nbformat": 4,
 "nbformat_minor": 2
}
