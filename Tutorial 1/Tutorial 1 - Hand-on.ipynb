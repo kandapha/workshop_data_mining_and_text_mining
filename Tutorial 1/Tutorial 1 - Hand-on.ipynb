{
 "cells": [
  {
   "cell_type": "markdown",
   "metadata": {
    "collapsed": true,
    "deletable": true,
    "editable": true,
    "slideshow": {
     "slide_type": "slide"
    }
   },
   "source": [
    "# Hand-on : First Journal with Markdown"
   ]
  },
  {
   "cell_type": "markdown",
   "metadata": {
    "deletable": true,
    "editable": true,
    "slideshow": {
     "slide_type": "subslide"
    }
   },
   "source": [
    "* If you are in love with _HTML_, count yourself _lucky_ !\n",
    "* Even if you hates it, still _lucky_ as well !"
   ]
  },
  {
   "cell_type": "markdown",
   "metadata": {
    "deletable": true,
    "editable": true,
    "slideshow": {
     "slide_type": "fragment"
    }
   },
   "source": [
    "__Assisting Links__\n",
    "\n",
    "* [Basic syntaxs](https://help.github.com/articles/basic-writing-and-formatting-syntax/)\n",
    "* [Markdown quick reference](https://en.support.wordpress.com/markdown-quick-reference/)\n",
    "* [Markdown cheatsheet](https://github.com/adam-p/markdown-here/wiki/Markdown-Cheatsheet)"
   ]
  },
  {
   "cell_type": "markdown",
   "metadata": {
    "deletable": true,
    "editable": true,
    "slideshow": {
     "slide_type": "slide"
    }
   },
   "source": [
    "## Step by Step"
   ]
  },
  {
   "cell_type": "markdown",
   "metadata": {
    "deletable": true,
    "editable": true,
    "slideshow": {
     "slide_type": "slide"
    }
   },
   "source": [
    "### 1. HTML Tags vs. Markdown Tags\n",
    "\n",
    "<strong>Strong !!!</strong> \n",
    "\n",
    "__'Hello, Jupyter'__\n",
    "\n",
    "_'Hello, Jupyter'_\n",
    "\n",
    "some <span style=\"color:red\">*__red__* </span>text"
   ]
  },
  {
   "cell_type": "markdown",
   "metadata": {
    "deletable": true,
    "editable": true,
    "slideshow": {
     "slide_type": "slide"
    }
   },
   "source": [
    "### 2. Headings\n",
    "\n",
    "    # The largest heading\n",
    "    ## The second largest heading\n",
    "    ###### The smallest heading"
   ]
  },
  {
   "cell_type": "markdown",
   "metadata": {
    "deletable": true,
    "editable": true,
    "slideshow": {
     "slide_type": "slide"
    }
   },
   "source": [
    "### 3. Styling text\n",
    "\n",
    "    __bold__ and _italic_\n",
    "    **bold** and *italic*    \n",
    "    \n",
    "    "
   ]
  },
  {
   "cell_type": "markdown",
   "metadata": {
    "deletable": true,
    "editable": true,
    "slideshow": {
     "slide_type": "slide"
    }
   },
   "source": [
    "### 4. Quoting text\n",
    "\n",
    "> ฝูงชนกำเนิดคล้าย _คลึงกัน_<br>\n",
    "ใหญ่ย่อมเพศผิวพรรณ _แผกบ้าง_<br>\n",
    "ความรู้อาจเรียนทัน _กันหมด_<br>\n",
    "ยกแต่ชั่วดีกระด้าง _อ่อนแก้ฤๅไหว_<br>\n",
    "__พระราชนิพนธ์ ร.5__\n"
   ]
  },
  {
   "cell_type": "markdown",
   "metadata": {
    "deletable": true,
    "editable": true,
    "slideshow": {
     "slide_type": "slide"
    }
   },
   "source": [
    "### 5. Quoting code\n",
    "\n",
    "```python\n",
    "print('hello')\n",
    "for i in range(100):\n",
    "    print(i)\n",
    "```"
   ]
  },
  {
   "cell_type": "markdown",
   "metadata": {
    "deletable": true,
    "editable": true,
    "slideshow": {
     "slide_type": "slide"
    }
   },
   "source": [
    "### 6. Lists\n",
    "\n",
    "1. Make my changes\n",
    "  1. Fix bug\n",
    "  2. Improve formatting\n",
    "    * Make the headings bigger\n",
    "2. Push my commits to GitHub\n",
    "3. Open a pull request\n",
    "  * Describe my changes\n",
    "  * Mention all the members of my team\n",
    "    * Ask for feedback"
   ]
  },
  {
   "cell_type": "markdown",
   "metadata": {
    "deletable": true,
    "editable": true,
    "slideshow": {
     "slide_type": "slide"
    }
   },
   "source": [
    "### 7. Inline Link\n",
    "\n",
    "https://www.wikipedia.org/\n",
    "\n",
    "Welcome to [WIKI website](https://www.wikipedia.org/)."
   ]
  },
  {
   "cell_type": "markdown",
   "metadata": {
    "deletable": true,
    "editable": true,
    "slideshow": {
     "slide_type": "slide"
    }
   },
   "source": [
    "###  8. Inline Image\n",
    "\n",
    "![TNI logo](https://lh4.googleusercontent.com/-LLI0_3pkjXs/TroS9mhTQEI/AAAAAAAAABA/17ybQ03eYeM/s128/tni_logo%2B2.jpg)"
   ]
  },
  {
   "cell_type": "markdown",
   "metadata": {
    "deletable": true,
    "editable": true,
    "slideshow": {
     "slide_type": "slide"
    }
   },
   "source": [
    "# Exercise"
   ]
  },
  {
   "cell_type": "markdown",
   "metadata": {
    "deletable": true,
    "editable": true,
    "slideshow": {
     "slide_type": "subslide"
    }
   },
   "source": [
    "### 1. Basic\n",
    "\n",
    ">* ความรู้ Markdown ต้อง\n",
    "  1. ดู\n",
    "    * ให้รู้\n",
    "  2. รู้\n",
    "    * __ให้จริง__\n",
    "  3. ทำ\n",
    "    * _ให้เป็น_"
   ]
  },
  {
   "cell_type": "markdown",
   "metadata": {
    "deletable": true,
    "editable": true,
    "slideshow": {
     "slide_type": "subslide"
    }
   },
   "source": [
    "### 2. Intermediate\n",
    "\n",
    "* [Link ไป www.tni.ac.th](http://www.tni.ac.th)\n",
    "\n",
    "```java\n",
    "import com.tni.it;\n",
    "public class HelloWorld {\n",
    "   public static void main(String[] args) {\n",
    "      System.out.println(\"Hello, World\");  // Prints \"Hello, World\"\n",
    "   }\n",
    "}\n",
    "```"
   ]
  },
  {
   "cell_type": "markdown",
   "metadata": {
    "deletable": true,
    "editable": true,
    "slideshow": {
     "slide_type": "subslide"
    }
   },
   "source": [
    "### 3. Advance\n",
    "\n",
    "<table align=left>\n",
    "    <tr>\n",
    "        <td> \n",
    "\n",
    "            <ul>\n",
    "                <li>ความรู้ Markdown ต้อง  \n",
    "                <ol>\n",
    "                    <li> ทำ\n",
    "                    <ul>\n",
    "                        <li>_ให้เป็น_\n",
    "                    </ul>\n",
    "                </ol>\n",
    "            </ul>\n",
    "        </td>\n",
    "        <td width=500px> \n",
    "            <a href=\"http://www.tni.ac.th\">\n",
    "                <img src=\"https://lh4.googleusercontent.com/-4FFacy4zRWo/AAAAAAAAAAI/AAAAAAAAABo/KbGugnggunU/s0-c-k-no-ns/photo.jpg\">\n",
    "            </a>\n",
    "        </td>\n",
    "    </tr>\n",
    "\n",
    "    <tr>\n",
    "    <td> </td>\n",
    "    <td> Wellcome! to TNI </td>\n",
    "    </tr>\n",
    "\n",
    "</table>"
   ]
  }
 ],
 "metadata": {
  "celltoolbar": "Slideshow",
  "kernelspec": {
   "display_name": "Python 3",
   "language": "python",
   "name": "python3"
  },
  "language_info": {
   "codemirror_mode": {
    "name": "ipython",
    "version": 3
   },
   "file_extension": ".py",
   "mimetype": "text/x-python",
   "name": "python",
   "nbconvert_exporter": "python",
   "pygments_lexer": "ipython3",
   "version": "3.5.0+"
  }
 },
 "nbformat": 4,
 "nbformat_minor": 2
}
