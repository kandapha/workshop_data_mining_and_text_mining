{
 "cells": [
  {
   "cell_type": "markdown",
   "metadata": {
    "collapsed": true,
    "deletable": true,
    "editable": true
   },
   "source": [
    "# Hand-on : First Journal with Markdown"
   ]
  },
  {
   "cell_type": "markdown",
   "metadata": {
    "deletable": true,
    "editable": true
   },
   "source": [
    "* If you are in love with _HTML_, count yourself _lucky_ !\n",
    "* Even if you hates it, still _lucky_ as well !"
   ]
  },
  {
   "cell_type": "markdown",
   "metadata": {
    "deletable": true,
    "editable": true
   },
   "source": [
    "## Assistants\n",
    "\n",
    "* [Basic writing and formatting syntax](https://help.github.com/articles/basic-writing-and-formatting-syntax/)\n",
    "* [Markdown quick reference](https://en.support.wordpress.com/markdown-quick-reference/)\n",
    "* [Markdown Cheatsheet](https://github.com/adam-p/markdown-here/wiki/Markdown-Cheatsheet)"
   ]
  },
  {
   "cell_type": "markdown",
   "metadata": {
    "deletable": true,
    "editable": true
   },
   "source": [
    "## Step by Step"
   ]
  },
  {
   "cell_type": "markdown",
   "metadata": {
    "deletable": true,
    "editable": true
   },
   "source": [
    "### HTML Tags\n",
    "\n",
    "<strong>Hello !!! </strong> Jupyter Notebook"
   ]
  },
  {
   "cell_type": "markdown",
   "metadata": {
    "collapsed": true,
    "deletable": true,
    "editable": true
   },
   "source": [
    "<strong>Strong!!!</strong>\n",
    "\n",
    "__Strong!!!__"
   ]
  },
  {
   "cell_type": "markdown",
   "metadata": {},
   "source": []
  },
  {
   "cell_type": "markdown",
   "metadata": {
    "deletable": true,
    "editable": true
   },
   "source": [
    "### Headings\n",
    "\n",
    "\n",
    "    # The largest heading\n",
    "    ## The second largest heading\n",
    "    ###### The smallest heading"
   ]
  },
  {
   "cell_type": "markdown",
   "metadata": {},
   "source": []
  },
  {
   "cell_type": "markdown",
   "metadata": {
    "deletable": true,
    "editable": true
   },
   "source": [
    "### Quoting text\n",
    "\n",
    "> ฝูงชนกำเนิดคล้าย _คลึงกัน_<br>\n",
    "ใหญ่ย่อมเพศผิวพรรณ _แผกบ้าง_<br>\n",
    "ความรู้อาจเรียนทัน _กันหมด_<br>\n",
    "ยกแต่ชั่วดีกระด้าง _อ่อนแก้ฤๅไหว_<br>\n",
    "__พระราชนิพนธ์ ร.5__\n"
   ]
  },
  {
   "cell_type": "markdown",
   "metadata": {},
   "source": []
  },
  {
   "cell_type": "markdown",
   "metadata": {},
   "source": [
    "### Quoting code\n"
   ]
  },
  {
   "cell_type": "markdown",
   "metadata": {},
   "source": []
  },
  {
   "cell_type": "markdown",
   "metadata": {
    "deletable": true,
    "editable": true
   },
   "source": [
    "### Lists\n",
    "\n",
    "1. Make my changes\n",
    "  1. Fix bug\n",
    "  2. Improve formatting\n",
    "    * Make the headings bigger\n",
    "2. Push my commits to GitHub\n",
    "3. Open a pull request\n",
    "  * Describe my changes\n",
    "  * Mention all the members of my team\n",
    "    * Ask for feedback"
   ]
  },
  {
   "cell_type": "markdown",
   "metadata": {},
   "source": []
  },
  {
   "cell_type": "markdown",
   "metadata": {
    "deletable": true,
    "editable": true
   },
   "source": [
    "### Inline Link\n",
    "\n",
    "http://example.com\n",
    "\n",
    "A [link](http://example.com \"Title\")."
   ]
  },
  {
   "cell_type": "markdown",
   "metadata": {
    "collapsed": true,
    "deletable": true,
    "editable": true
   },
   "source": []
  },
  {
   "cell_type": "markdown",
   "metadata": {
    "deletable": true,
    "editable": true
   },
   "source": [
    "###  Inline Image\n",
    "\n",
    "![TNI logo](https://lh4.googleusercontent.com/-LLI0_3pkjXs/TroS9mhTQEI/AAAAAAAAABA/17ybQ03eYeM/s128/tni_logo%2B2.jpg)"
   ]
  },
  {
   "cell_type": "markdown",
   "metadata": {
    "collapsed": true,
    "deletable": true,
    "editable": true
   },
   "source": []
  },
  {
   "cell_type": "markdown",
   "metadata": {
    "deletable": true,
    "editable": true
   },
   "source": [
    "# Exercise"
   ]
  },
  {
   "cell_type": "markdown",
   "metadata": {
    "deletable": true,
    "editable": true
   },
   "source": [
    "### 1. Basic\n",
    "\n",
    ">* ความรู้ Markdown ต้อง\n",
    "  1. ดู\n",
    "    * ให้รู้\n",
    "  2. รู้\n",
    "    * __ให้จริง__\n",
    "  3. ทำ\n",
    "    * _ให้เป็น_"
   ]
  },
  {
   "cell_type": "markdown",
   "metadata": {
    "deletable": true,
    "editable": true
   },
   "source": [
    "### 2. Intermediate\n",
    "\n",
    "* [Link ไป www.tni.ac.th](http://www.tni.ac.th)\n",
    "\n",
    "```java\n",
    "import com.tni.it;\n",
    "public class HelloWorld {\n",
    "   public static void main(String[] args) {\n",
    "      System.out.println(\"Hello, World\");  // Prints \"Hello, World\"\n",
    "   }\n",
    "}\n",
    "```"
   ]
  },
  {
   "cell_type": "markdown",
   "metadata": {
    "deletable": true,
    "editable": true
   },
   "source": [
    "* กรุณาใส่ภาพอะไรก็ได้ ซึ่งสามารถกด แล้ว Link ไปยัง TNI แบบนี้\n",
    "\n",
    "[![](https://lh4.googleusercontent.com/-4FFacy4zRWo/AAAAAAAAAAI/AAAAAAAAABo/KbGugnggunU/s0-c-k-no-ns/photo.jpg)](http://www.tni.ac.th)"
   ]
  },
  {
   "cell_type": "markdown",
   "metadata": {
    "deletable": true,
    "editable": true
   },
   "source": [
    "### 3. Advance\n",
    "\n",
    "<table align=left>\n",
    "<tr>\n",
    "<td> \n",
    "\n",
    "<ul>\n",
    "    <li>ความรู้ Markdown ต้อง  \n",
    "    <ol>\n",
    "        <li> ดู\n",
    "        <ul>\n",
    "            <li>ให้รู้\n",
    "        </ul>\n",
    "    </ol>\n",
    "</ul>\n",
    "\n",
    "<td width=200px> \n",
    "    <a href=\"http://www.tni.ac.th\">\n",
    "        <img src=\"https://lh4.googleusercontent.com/-4FFacy4zRWo/AAAAAAAAAAI/AAAAAAAAABo/KbGugnggunU/s0-c-k-no-ns/photo.jpg\">\n",
    "    </a>\n",
    "</tr>\n",
    "\n",
    "<tr>\n",
    "<td> \n",
    "<td> Wellcome!\n",
    "</tr>\n",
    "\n",
    "</table>"
   ]
  },
  {
   "cell_type": "markdown",
   "metadata": {
    "deletable": true,
    "editable": true
   },
   "source": [
    "---"
   ]
  }
 ],
 "metadata": {
  "kernelspec": {
   "display_name": "Python 3",
   "language": "python",
   "name": "python3"
  },
  "language_info": {
   "codemirror_mode": {
    "name": "ipython",
    "version": 3
   },
   "file_extension": ".py",
   "mimetype": "text/x-python",
   "name": "python",
   "nbconvert_exporter": "python",
   "pygments_lexer": "ipython3",
   "version": "3.6.0"
  }
 },
 "nbformat": 4,
 "nbformat_minor": 2
}
